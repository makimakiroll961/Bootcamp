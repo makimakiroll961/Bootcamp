{
 "cells": [
  {
   "attachments": {},
   "cell_type": "markdown",
   "metadata": {},
   "source": [
    "### Task 1 - Installing and Importing Modules (Pandas)"
   ]
  },
  {
   "attachments": {},
   "cell_type": "markdown",
   "metadata": {},
   "source": [
    "##### 1. Write a command to install the pandas library in your environment.\n",
    "\n",
    "Note: It’s important to install pandas because it provides data structures and data analysis tools for the Python programming language.\n",
    "\n",
    "Python raw would not need the % or !\n",
    "Depending on the verison of Jupyter Notebook a % or ! will be needed"
   ]
  },
  {
   "cell_type": "code",
   "execution_count": 1,
   "metadata": {},
   "outputs": [
    {
     "name": "stdout",
     "output_type": "stream",
     "text": [
      "Requirement already satisfied: pandas in /opt/anaconda3/lib/python3.11/site-packages (2.1.4)\n",
      "Requirement already satisfied: numpy<2,>=1.23.2 in /opt/anaconda3/lib/python3.11/site-packages (from pandas) (1.26.4)\n",
      "Requirement already satisfied: python-dateutil>=2.8.2 in /opt/anaconda3/lib/python3.11/site-packages (from pandas) (2.8.2)\n",
      "Requirement already satisfied: pytz>=2020.1 in /opt/anaconda3/lib/python3.11/site-packages (from pandas) (2023.3.post1)\n",
      "Requirement already satisfied: tzdata>=2022.1 in /opt/anaconda3/lib/python3.11/site-packages (from pandas) (2023.3)\n",
      "Requirement already satisfied: six>=1.5 in /opt/anaconda3/lib/python3.11/site-packages (from python-dateutil>=2.8.2->pandas) (1.16.0)\n",
      "Note: you may need to restart the kernel to use updated packages.\n"
     ]
    }
   ],
   "source": [
    "%pip install pandas\n"
   ]
  },
  {
   "attachments": {},
   "cell_type": "markdown",
   "metadata": {},
   "source": [
    "##### 2. Write a command to install a specific version (2.1.1) of pandas.\n",
    "\n",
    "Note: Sometimes, you might need to work with a specific version of pandas due to compatibility issues with other libraries or specific features available in that version"
   ]
  },
  {
   "cell_type": "code",
   "execution_count": 2,
   "metadata": {},
   "outputs": [],
   "source": [
    "\n"
   ]
  },
  {
   "attachments": {},
   "cell_type": "markdown",
   "metadata": {},
   "source": [
    "##### 3. Write a command to import the pandas library as ‘pd’.\n",
    "\n",
    "Note: It’s a common convention to import pandas as pd. This makes your code shorter and more readable."
   ]
  },
  {
   "cell_type": "code",
   "execution_count": 3,
   "metadata": {},
   "outputs": [],
   "source": [
    "import pandas as pd"
   ]
  },
  {
   "attachments": {},
   "cell_type": "markdown",
   "metadata": {},
   "source": [
    "##### 4. Write a command to create a pandas Series named ‘fruits’ with the values [‘apple’, ‘banana’, ‘cherry’].\n",
    "\n",
    "Note: A Series is a one-dimensional labeled array capable of holding any data type. It is one of the basic structures in pandas.\n"
   ]
  },
  {
   "cell_type": "code",
   "execution_count": 1,
   "metadata": {},
   "outputs": [
    {
     "name": "stdout",
     "output_type": "stream",
     "text": [
      "0     apple\n",
      "1    banana\n",
      "2    cherry\n",
      "dtype: object\n"
     ]
    }
   ],
   "source": [
    "import pandas as pd \n",
    "fruits = [\"apple\", \"banana\", \"cherry\"]\n",
    "\n",
    "fruit_df = pd.Series(fruits)\n",
    "\n",
    "print(fruit_df)"
   ]
  },
  {
   "attachments": {},
   "cell_type": "markdown",
   "metadata": {},
   "source": [
    "##### 5. Create a DataFrame named ‘purchases’ with two columns ‘apples’ and ‘oranges’.\n",
    "\n",
    "```\n",
    "The ‘apples’ column should have the values [3, 2, 0, 1] and the ‘oranges’ column should have the values [0, 3, 7, 2].\n",
    "```\n",
    "\n",
    "Note: DataFrames are two-dimensional size-mutable, potentially heterogeneous tabular data structures with labeled axes (rows and columns). They are one of the fundamental structures in pandas."
   ]
  },
  {
   "cell_type": "code",
   "execution_count": 3,
   "metadata": {},
   "outputs": [],
   "source": [
    "import pandas as pd \n",
    "\n",
    "purchases  = {\n",
    "    \"apples\" : [3, 2, 0, 1],\n",
    "    \"oranges\" : [0, 3, 7, 2]} \n",
    "\n",
    "purchases_df= pd.DataFrame(purchases)"
   ]
  },
  {
   "attachments": {},
   "cell_type": "markdown",
   "metadata": {},
   "source": [
    "### Task 2 - Data Loading in Pandas"
   ]
  },
  {
   "attachments": {},
   "cell_type": "markdown",
   "metadata": {},
   "source": [
    "##### 1. Write a line of code to open the ‘employees.csv’ data file into a pandas DataFrame.\n",
    "\n",
    "```\n",
    "The employees.csv file will need to be in the same directory(folder) as the notebook, or the filepath will need to be added.\n",
    "```\n",
    "\n",
    "Note: This function is useful for loading CSV data into a pandas DataFrame, which is a two-dimensional labeled data structure with columns of potentially different types. It’s one of the most common initial steps in data analysis."
   ]
  },
  {
   "cell_type": "code",
   "execution_count": 8,
   "metadata": {},
   "outputs": [],
   "source": [
    "import pandas as pd\n",
    "\n",
    "employees_df = pd.read_csv(\"employees.csv\")"
   ]
  },
  {
   "attachments": {},
   "cell_type": "markdown",
   "metadata": {},
   "source": [
    "##### 2. Write a line of code to display the first 5 rows of the DataFrame.\n",
    "\n",
    "Note: The .head(n) function is useful for quickly previewing the first n rows of your DataFrame, which can help you get a sense of your data at a glance."
   ]
  },
  {
   "cell_type": "code",
   "execution_count": 9,
   "metadata": {},
   "outputs": [
    {
     "data": {
      "text/html": [
       "<div>\n",
       "<style scoped>\n",
       "    .dataframe tbody tr th:only-of-type {\n",
       "        vertical-align: middle;\n",
       "    }\n",
       "\n",
       "    .dataframe tbody tr th {\n",
       "        vertical-align: top;\n",
       "    }\n",
       "\n",
       "    .dataframe thead th {\n",
       "        text-align: right;\n",
       "    }\n",
       "</style>\n",
       "<table border=\"1\" class=\"dataframe\">\n",
       "  <thead>\n",
       "    <tr style=\"text-align: right;\">\n",
       "      <th></th>\n",
       "      <th>Name</th>\n",
       "      <th>Age</th>\n",
       "      <th>City</th>\n",
       "      <th>Salary</th>\n",
       "      <th>Gender</th>\n",
       "      <th>column1</th>\n",
       "      <th>State</th>\n",
       "      <th>Start Date</th>\n",
       "      <th>DateOfBirth</th>\n",
       "    </tr>\n",
       "  </thead>\n",
       "  <tbody>\n",
       "    <tr>\n",
       "      <th>0</th>\n",
       "      <td>kyle</td>\n",
       "      <td>59.0</td>\n",
       "      <td>indianapolis</td>\n",
       "      <td>151000.0</td>\n",
       "      <td>Other</td>\n",
       "      <td>Raymond</td>\n",
       "      <td>Indiana</td>\n",
       "      <td>1990-12-09</td>\n",
       "      <td>1964-10-15 14:21:44.568274</td>\n",
       "    </tr>\n",
       "    <tr>\n",
       "      <th>1</th>\n",
       "      <td>Luis</td>\n",
       "      <td>31.0</td>\n",
       "      <td>Los Angeles</td>\n",
       "      <td>58000.0</td>\n",
       "      <td>NaN</td>\n",
       "      <td>Andrade</td>\n",
       "      <td>CA</td>\n",
       "      <td>1992-02-24</td>\n",
       "      <td>1992-10-08 14:21:44.568274</td>\n",
       "    </tr>\n",
       "    <tr>\n",
       "      <th>2</th>\n",
       "      <td>katherine</td>\n",
       "      <td>46.0</td>\n",
       "      <td>Naperville</td>\n",
       "      <td>146000.0</td>\n",
       "      <td>female</td>\n",
       "      <td>Gutierrez</td>\n",
       "      <td>IL</td>\n",
       "      <td>21-12-2015</td>\n",
       "      <td>1977-10-12 14:21:44.568274</td>\n",
       "    </tr>\n",
       "    <tr>\n",
       "      <th>3</th>\n",
       "      <td>robert</td>\n",
       "      <td>25.0</td>\n",
       "      <td>pittsburgh</td>\n",
       "      <td>66000.0</td>\n",
       "      <td>Male</td>\n",
       "      <td>Yates</td>\n",
       "      <td>Pennsylvania</td>\n",
       "      <td>1993-01-25</td>\n",
       "      <td>1998-10-07 14:21:44.568274</td>\n",
       "    </tr>\n",
       "    <tr>\n",
       "      <th>4</th>\n",
       "      <td>austin</td>\n",
       "      <td>49.0</td>\n",
       "      <td>Naperville</td>\n",
       "      <td>96000.0</td>\n",
       "      <td>NaN</td>\n",
       "      <td>Turner</td>\n",
       "      <td>IL</td>\n",
       "      <td>20-09-1979</td>\n",
       "      <td>1974-10-13 14:21:44.568274</td>\n",
       "    </tr>\n",
       "  </tbody>\n",
       "</table>\n",
       "</div>"
      ],
      "text/plain": [
       "          Name   Age            City    Salary    Gender      column1  \\\n",
       "0        kyle   59.0   indianapolis   151000.0    Other      Raymond    \n",
       "1        Luis   31.0    Los Angeles    58000.0       NaN     Andrade    \n",
       "2   katherine   46.0     Naperville   146000.0   female    Gutierrez    \n",
       "3      robert   25.0     pittsburgh    66000.0     Male        Yates    \n",
       "4      austin   49.0     Naperville    96000.0       NaN      Turner    \n",
       "\n",
       "            State    Start Date                 DateOfBirth  \n",
       "0        Indiana     1990-12-09  1964-10-15 14:21:44.568274  \n",
       "1             CA     1992-02-24  1992-10-08 14:21:44.568274  \n",
       "2             IL    21-12-2015   1977-10-12 14:21:44.568274  \n",
       "3   Pennsylvania     1993-01-25  1998-10-07 14:21:44.568274  \n",
       "4             IL    20-09-1979   1974-10-13 14:21:44.568274  "
      ]
     },
     "execution_count": 9,
     "metadata": {},
     "output_type": "execute_result"
    }
   ],
   "source": [
    "employees_df.head()\n"
   ]
  },
  {
   "attachments": {},
   "cell_type": "markdown",
   "metadata": {},
   "source": [
    "##### 3. Write a line of code to display the last 3 rows of the DataFrame.\n",
    "\n",
    "Note: The .tail(n) function is useful for quickly viewing the last n rows of your DataFrame. This can be particularly helpful when you want to see the most recent entries in a time-series dataset."
   ]
  },
  {
   "cell_type": "code",
   "execution_count": 10,
   "metadata": {},
   "outputs": [
    {
     "data": {
      "text/html": [
       "<div>\n",
       "<style scoped>\n",
       "    .dataframe tbody tr th:only-of-type {\n",
       "        vertical-align: middle;\n",
       "    }\n",
       "\n",
       "    .dataframe tbody tr th {\n",
       "        vertical-align: top;\n",
       "    }\n",
       "\n",
       "    .dataframe thead th {\n",
       "        text-align: right;\n",
       "    }\n",
       "</style>\n",
       "<table border=\"1\" class=\"dataframe\">\n",
       "  <thead>\n",
       "    <tr style=\"text-align: right;\">\n",
       "      <th></th>\n",
       "      <th>Name</th>\n",
       "      <th>Age</th>\n",
       "      <th>City</th>\n",
       "      <th>Salary</th>\n",
       "      <th>Gender</th>\n",
       "      <th>column1</th>\n",
       "      <th>State</th>\n",
       "      <th>Start Date</th>\n",
       "      <th>DateOfBirth</th>\n",
       "    </tr>\n",
       "  </thead>\n",
       "  <tbody>\n",
       "    <tr>\n",
       "      <th>157</th>\n",
       "      <td>Laura</td>\n",
       "      <td>28.0</td>\n",
       "      <td>Pittsburgh</td>\n",
       "      <td>53000.0</td>\n",
       "      <td>male</td>\n",
       "      <td>Jackson</td>\n",
       "      <td>Pennsylvania</td>\n",
       "      <td>1991-05-05</td>\n",
       "      <td>1995-10-08 14:21:44.568274</td>\n",
       "    </tr>\n",
       "    <tr>\n",
       "      <th>158</th>\n",
       "      <td>kiara</td>\n",
       "      <td>54.0</td>\n",
       "      <td>Tampa</td>\n",
       "      <td>33000.0</td>\n",
       "      <td>NaN</td>\n",
       "      <td>Hernandez</td>\n",
       "      <td>Florida</td>\n",
       "      <td>03-01-1985</td>\n",
       "      <td>1969-10-14 14:21:44.568274</td>\n",
       "    </tr>\n",
       "    <tr>\n",
       "      <th>159</th>\n",
       "      <td>Jennifer</td>\n",
       "      <td>38.0</td>\n",
       "      <td>san francisco</td>\n",
       "      <td>58000.0</td>\n",
       "      <td>NaN</td>\n",
       "      <td>Palmer</td>\n",
       "      <td>CA</td>\n",
       "      <td>2017-01-31</td>\n",
       "      <td>1985-10-10 14:21:44.568274</td>\n",
       "    </tr>\n",
       "  </tbody>\n",
       "</table>\n",
       "</div>"
      ],
      "text/plain": [
       "           Name   Age             City   Salary  Gender      column1  \\\n",
       "157      Laura   28.0      Pittsburgh   53000.0   male      Jackson    \n",
       "158      kiara   54.0           Tampa   33000.0     NaN   Hernandez    \n",
       "159   Jennifer   38.0   san francisco   58000.0     NaN      Palmer    \n",
       "\n",
       "              State    Start Date                 DateOfBirth  \n",
       "157   Pennsylvania     1991-05-05  1995-10-08 14:21:44.568274  \n",
       "158        Florida    03-01-1985   1969-10-14 14:21:44.568274  \n",
       "159             CA     2017-01-31  1985-10-10 14:21:44.568274  "
      ]
     },
     "execution_count": 10,
     "metadata": {},
     "output_type": "execute_result"
    }
   ],
   "source": [
    "employees_df.tail(3)"
   ]
  },
  {
   "attachments": {},
   "cell_type": "markdown",
   "metadata": {},
   "source": [
    "##### 4. Write a line of code to randomly select 7 rows from the DataFrame.\n",
    "\n",
    "Note: The .sample(n) function is useful when you want to randomly select n rows from your DataFrame. This can be helpful for creating random samples from your data for tasks like bootstrapping or cross-validation."
   ]
  },
  {
   "cell_type": "code",
   "execution_count": 11,
   "metadata": {},
   "outputs": [
    {
     "data": {
      "text/html": [
       "<div>\n",
       "<style scoped>\n",
       "    .dataframe tbody tr th:only-of-type {\n",
       "        vertical-align: middle;\n",
       "    }\n",
       "\n",
       "    .dataframe tbody tr th {\n",
       "        vertical-align: top;\n",
       "    }\n",
       "\n",
       "    .dataframe thead th {\n",
       "        text-align: right;\n",
       "    }\n",
       "</style>\n",
       "<table border=\"1\" class=\"dataframe\">\n",
       "  <thead>\n",
       "    <tr style=\"text-align: right;\">\n",
       "      <th></th>\n",
       "      <th>Name</th>\n",
       "      <th>Age</th>\n",
       "      <th>City</th>\n",
       "      <th>Salary</th>\n",
       "      <th>Gender</th>\n",
       "      <th>column1</th>\n",
       "      <th>State</th>\n",
       "      <th>Start Date</th>\n",
       "      <th>DateOfBirth</th>\n",
       "    </tr>\n",
       "  </thead>\n",
       "  <tbody>\n",
       "    <tr>\n",
       "      <th>91</th>\n",
       "      <td>nicole</td>\n",
       "      <td>52.0</td>\n",
       "      <td>Jacksonville</td>\n",
       "      <td>102000.0</td>\n",
       "      <td>female</td>\n",
       "      <td>Patterson</td>\n",
       "      <td>Florida</td>\n",
       "      <td>1986-11-04</td>\n",
       "      <td>1971-10-14 14:21:44.568274</td>\n",
       "    </tr>\n",
       "    <tr>\n",
       "      <th>50</th>\n",
       "      <td>Laura</td>\n",
       "      <td>28.0</td>\n",
       "      <td>Pittsburgh</td>\n",
       "      <td>53000.0</td>\n",
       "      <td>male</td>\n",
       "      <td>Jackson</td>\n",
       "      <td>Pennsylvania</td>\n",
       "      <td>1991-05-05</td>\n",
       "      <td>1995-10-08 14:21:44.568274</td>\n",
       "    </tr>\n",
       "    <tr>\n",
       "      <th>24</th>\n",
       "      <td>richard</td>\n",
       "      <td>28.0</td>\n",
       "      <td>Pittsburgh</td>\n",
       "      <td>77000.0</td>\n",
       "      <td>other</td>\n",
       "      <td>Vance</td>\n",
       "      <td>Pennsylvania</td>\n",
       "      <td>2017-10-19</td>\n",
       "      <td>1995-10-08 14:21:44.568274</td>\n",
       "    </tr>\n",
       "    <tr>\n",
       "      <th>116</th>\n",
       "      <td>hayley</td>\n",
       "      <td>51.0</td>\n",
       "      <td>houston</td>\n",
       "      <td>84000.0</td>\n",
       "      <td>male</td>\n",
       "      <td>Bowman</td>\n",
       "      <td>TX</td>\n",
       "      <td>2017-10-19</td>\n",
       "      <td>1972-10-13 14:21:44.568274</td>\n",
       "    </tr>\n",
       "    <tr>\n",
       "      <th>136</th>\n",
       "      <td>hunter</td>\n",
       "      <td>49.0</td>\n",
       "      <td>san diego</td>\n",
       "      <td>29000.0</td>\n",
       "      <td>male</td>\n",
       "      <td>Mason</td>\n",
       "      <td>CA</td>\n",
       "      <td>2014-05-10</td>\n",
       "      <td>2022-10-17 14:21:44.568274</td>\n",
       "    </tr>\n",
       "    <tr>\n",
       "      <th>119</th>\n",
       "      <td>Annette</td>\n",
       "      <td>21.0</td>\n",
       "      <td>houston</td>\n",
       "      <td>122000.0</td>\n",
       "      <td>NaN</td>\n",
       "      <td>Johnson</td>\n",
       "      <td>TX</td>\n",
       "      <td>1999-05-26</td>\n",
       "      <td>2023-01-20 14:21:44.568274</td>\n",
       "    </tr>\n",
       "    <tr>\n",
       "      <th>158</th>\n",
       "      <td>kiara</td>\n",
       "      <td>54.0</td>\n",
       "      <td>Tampa</td>\n",
       "      <td>33000.0</td>\n",
       "      <td>NaN</td>\n",
       "      <td>Hernandez</td>\n",
       "      <td>Florida</td>\n",
       "      <td>03-01-1985</td>\n",
       "      <td>1969-10-14 14:21:44.568274</td>\n",
       "    </tr>\n",
       "  </tbody>\n",
       "</table>\n",
       "</div>"
      ],
      "text/plain": [
       "          Name   Age            City    Salary    Gender      column1  \\\n",
       "91     nicole   52.0   Jacksonville   102000.0   female    Patterson    \n",
       "50      Laura   28.0     Pittsburgh    53000.0     male      Jackson    \n",
       "24    richard   28.0     Pittsburgh    77000.0    other        Vance    \n",
       "116    hayley   51.0        houston    84000.0     male       Bowman    \n",
       "136    hunter   49.0      san diego    29000.0     male        Mason    \n",
       "119   Annette   21.0        houston   122000.0       NaN     Johnson    \n",
       "158     kiara   54.0          Tampa    33000.0       NaN   Hernandez    \n",
       "\n",
       "              State    Start Date                 DateOfBirth  \n",
       "91         Florida     1986-11-04  1971-10-14 14:21:44.568274  \n",
       "50    Pennsylvania     1991-05-05  1995-10-08 14:21:44.568274  \n",
       "24    Pennsylvania     2017-10-19  1995-10-08 14:21:44.568274  \n",
       "116             TX     2017-10-19  1972-10-13 14:21:44.568274  \n",
       "136             CA     2014-05-10  2022-10-17 14:21:44.568274  \n",
       "119             TX     1999-05-26  2023-01-20 14:21:44.568274  \n",
       "158        Florida    03-01-1985   1969-10-14 14:21:44.568274  "
      ]
     },
     "execution_count": 11,
     "metadata": {},
     "output_type": "execute_result"
    }
   ],
   "source": [
    "employees_df.sample(7)"
   ]
  },
  {
   "cell_type": "raw",
   "metadata": {},
   "source": [
    "##### 5. Write a line of code to save the DataFrame back to a new CSV file named ‘new_employees.csv’.\n",
    "\n",
    "```\n",
    "df.to_csv('new_employees.csv', index=False)\n",
    "```\n",
    "\n",
    "index=False tells the function not to write the row index to file.\n",
    "\n",
    "Note: The .to_csv() function is useful for saving your DataFrame back to a CSV file. This is often used after you’ve made some modifications to your data and want to save the results for later use."
   ]
  },
  {
   "cell_type": "code",
   "execution_count": 12,
   "metadata": {},
   "outputs": [
    {
     "name": "stdout",
     "output_type": "stream",
     "text": [
      "<class 'pandas.core.frame.DataFrame'>\n",
      "RangeIndex: 160 entries, 0 to 159\n",
      "Data columns (total 9 columns):\n",
      " #   Column       Non-Null Count  Dtype  \n",
      "---  ------       --------------  -----  \n",
      " 0   Name         160 non-null    object \n",
      " 1   Age          159 non-null    float64\n",
      " 2   City         156 non-null    object \n",
      " 3   Salary       159 non-null    float64\n",
      " 4   Gender       118 non-null    object \n",
      " 5   column1      158 non-null    object \n",
      " 6   State        156 non-null    object \n",
      " 7   Start Date   158 non-null    object \n",
      " 8   DateOfBirth  160 non-null    object \n",
      "dtypes: float64(2), object(7)\n",
      "memory usage: 11.4+ KB\n"
     ]
    }
   ],
   "source": [
    "employees_df.info()"
   ]
  },
  {
   "attachments": {},
   "cell_type": "markdown",
   "metadata": {},
   "source": [
    "##### 6. Write a line of code to open a CSV file named ‘separator.csv’ that uses a semicolon (;) as the separator.\n",
    "\n",
    "Note: In CSV files, a separator (also known as a delimiter) is used to distinguish between different fields.\n",
    "\n",
    "The most common separator is a comma, but other characters can be used as well, such as semicolons, tabs (\\t), spaces, etc.\n",
    "\n",
    "The choice of separator can depend on the data itself (for example, if the data contains commas within fields, a different separator might be used).\n",
    "\n",
    "When reading a CSV file with pandas, you can specify the separator using the sep parameter in the read_csv function.\n",
    "\n",
    "If not specified, pandas will assume the separator is a comma.\n",
    "\n",
    "It’s important to know what separator is used in your data file to correctly load it into a DataFrame."
   ]
  },
  {
   "cell_type": "code",
   "execution_count": 13,
   "metadata": {},
   "outputs": [
    {
     "name": "stdout",
     "output_type": "stream",
     "text": [
      "            Name   Age             City    Salary    Gender      column1  \\\n",
      "0          kyle   59.0    indianapolis   151000.0    Other      Raymond    \n",
      "1          Luis   31.0     Los Angeles    58000.0       NaN     Andrade    \n",
      "2     katherine   46.0      Naperville   146000.0   female    Gutierrez    \n",
      "3        robert   25.0      pittsburgh    66000.0     Male        Yates    \n",
      "4        austin   49.0      Naperville    96000.0       NaN      Turner    \n",
      "..           ...   ...              ...       ...       ...          ...   \n",
      "155    Jennifer   38.0   san francisco    58000.0       NaN      Palmer    \n",
      "156        Sean   35.0     Los Angeles    70000.0     Male       Harris    \n",
      "157       Laura   28.0      Pittsburgh    53000.0     male      Jackson    \n",
      "158       kiara   54.0           Tampa    33000.0       NaN   Hernandez    \n",
      "159    Jennifer   38.0   san francisco    58000.0       NaN      Palmer    \n",
      "\n",
      "              State    Start Date DateOfBirth  \n",
      "0          Indiana     1990-12-09  1964-10-15  \n",
      "1               CA     1992-02-24  1992-10-08  \n",
      "2               IL    21-12-2015   1977-10-12  \n",
      "3     Pennsylvania     1993-01-25  1998-10-07  \n",
      "4               IL    20-09-1979   1974-10-13  \n",
      "..              ...           ...         ...  \n",
      "155             CA     2017-01-31  1985-10-10  \n",
      "156             CA     2011-07-06  1988-10-09  \n",
      "157   Pennsylvania     1991-05-05  1995-10-08  \n",
      "158        Florida    03-01-1985   1969-10-14  \n",
      "159             CA     2017-01-31  1985-10-10  \n",
      "\n",
      "[160 rows x 9 columns]\n"
     ]
    },
    {
     "data": {
      "text/plain": [
       "(160, 9)"
      ]
     },
     "execution_count": 13,
     "metadata": {},
     "output_type": "execute_result"
    }
   ],
   "source": [
    "import pandas as pd \n",
    "\n",
    "separator_df = pd.read_csv('separator.csv', sep=';')\n",
    "\n",
    "print(separator_df)\n",
    "\n",
    "separator_df.shape\n"
   ]
  },
  {
   "attachments": {},
   "cell_type": "markdown",
   "metadata": {},
   "source": [
    "##### 7. Write a line of code to get the shape of the DataFrame.\n",
    "\n",
    "Note: The .shape attribute is useful for quickly finding out how many rows and columns are in your DataFrame. It returns a tuple in the format (rows, columns)."
   ]
  },
  {
   "cell_type": "code",
   "execution_count": 14,
   "metadata": {},
   "outputs": [
    {
     "data": {
      "text/plain": [
       "(160, 9)"
      ]
     },
     "execution_count": 14,
     "metadata": {},
     "output_type": "execute_result"
    }
   ],
   "source": [
    "import pandas as pd\n",
    "\n",
    "separator_df.shape\n"
   ]
  },
  {
   "attachments": {},
   "cell_type": "markdown",
   "metadata": {},
   "source": [
    "##### 8. Write a line of code to get a summary of the DataFrame’s numerical columns.\n",
    "\n",
    "Note: The .describe() function is useful for quickly generating descriptive statistics that summarize the central tendency, dispersion, and shape of a dataset’s distribution. It automatically excludes NaN values."
   ]
  },
  {
   "cell_type": "code",
   "execution_count": 15,
   "metadata": {},
   "outputs": [
    {
     "data": {
      "text/html": [
       "<div>\n",
       "<style scoped>\n",
       "    .dataframe tbody tr th:only-of-type {\n",
       "        vertical-align: middle;\n",
       "    }\n",
       "\n",
       "    .dataframe tbody tr th {\n",
       "        vertical-align: top;\n",
       "    }\n",
       "\n",
       "    .dataframe thead th {\n",
       "        text-align: right;\n",
       "    }\n",
       "</style>\n",
       "<table border=\"1\" class=\"dataframe\">\n",
       "  <thead>\n",
       "    <tr style=\"text-align: right;\">\n",
       "      <th></th>\n",
       "      <th>Age</th>\n",
       "      <th>Salary</th>\n",
       "    </tr>\n",
       "  </thead>\n",
       "  <tbody>\n",
       "    <tr>\n",
       "      <th>count</th>\n",
       "      <td>159.000000</td>\n",
       "      <td>159.000000</td>\n",
       "    </tr>\n",
       "    <tr>\n",
       "      <th>mean</th>\n",
       "      <td>40.773585</td>\n",
       "      <td>86503.144654</td>\n",
       "    </tr>\n",
       "    <tr>\n",
       "      <th>std</th>\n",
       "      <td>11.125250</td>\n",
       "      <td>40741.835280</td>\n",
       "    </tr>\n",
       "    <tr>\n",
       "      <th>min</th>\n",
       "      <td>20.000000</td>\n",
       "      <td>23000.000000</td>\n",
       "    </tr>\n",
       "    <tr>\n",
       "      <th>25%</th>\n",
       "      <td>32.000000</td>\n",
       "      <td>54000.000000</td>\n",
       "    </tr>\n",
       "    <tr>\n",
       "      <th>50%</th>\n",
       "      <td>41.000000</td>\n",
       "      <td>77000.000000</td>\n",
       "    </tr>\n",
       "    <tr>\n",
       "      <th>75%</th>\n",
       "      <td>50.000000</td>\n",
       "      <td>115000.000000</td>\n",
       "    </tr>\n",
       "    <tr>\n",
       "      <th>max</th>\n",
       "      <td>59.000000</td>\n",
       "      <td>191000.000000</td>\n",
       "    </tr>\n",
       "  </tbody>\n",
       "</table>\n",
       "</div>"
      ],
      "text/plain": [
       "              Age         Salary\n",
       "count  159.000000     159.000000\n",
       "mean    40.773585   86503.144654\n",
       "std     11.125250   40741.835280\n",
       "min     20.000000   23000.000000\n",
       "25%     32.000000   54000.000000\n",
       "50%     41.000000   77000.000000\n",
       "75%     50.000000  115000.000000\n",
       "max     59.000000  191000.000000"
      ]
     },
     "execution_count": 15,
     "metadata": {},
     "output_type": "execute_result"
    }
   ],
   "source": [
    "import pandas as pd\n",
    "\n",
    "separator_df.describe()"
   ]
  },
  {
   "attachments": {},
   "cell_type": "markdown",
   "metadata": {},
   "source": [
    "##### 9. Write a line of code to get a concise summary of the DataFrame.\n",
    "\n",
    "Note: The .info() function is useful for getting a quick description of the data, especially the total number of non-null observations and the data type of each column."
   ]
  },
  {
   "cell_type": "code",
   "execution_count": 16,
   "metadata": {},
   "outputs": [
    {
     "name": "stdout",
     "output_type": "stream",
     "text": [
      "<class 'pandas.core.frame.DataFrame'>\n",
      "RangeIndex: 160 entries, 0 to 159\n",
      "Data columns (total 9 columns):\n",
      " #   Column       Non-Null Count  Dtype  \n",
      "---  ------       --------------  -----  \n",
      " 0   Name         160 non-null    object \n",
      " 1   Age          159 non-null    float64\n",
      " 2   City         156 non-null    object \n",
      " 3   Salary       159 non-null    float64\n",
      " 4   Gender       118 non-null    object \n",
      " 5   column1      158 non-null    object \n",
      " 6   State        156 non-null    object \n",
      " 7   Start Date   158 non-null    object \n",
      " 8   DateOfBirth  160 non-null    object \n",
      "dtypes: float64(2), object(7)\n",
      "memory usage: 11.4+ KB\n"
     ]
    }
   ],
   "source": [
    "employees_df.info()"
   ]
  },
  {
   "attachments": {},
   "cell_type": "markdown",
   "metadata": {},
   "source": [
    "##### 10. Write a line of code to get the number of unique values in each column.\n",
    "\n",
    "Note: The .nunique() function is useful for understanding the number of distinct values in each column. This can help identify columns with high cardinality."
   ]
  },
  {
   "cell_type": "code",
   "execution_count": 17,
   "metadata": {},
   "outputs": [
    {
     "data": {
      "text/plain": [
       "Name           129\n",
       "Age             40\n",
       "City            46\n",
       "Salary          91\n",
       "Gender           7\n",
       "column1        126\n",
       "State            9\n",
       "Start Date      30\n",
       "DateOfBirth     49\n",
       "dtype: int64"
      ]
     },
     "execution_count": 17,
     "metadata": {},
     "output_type": "execute_result"
    }
   ],
   "source": [
    "employees_df.nunique()\n"
   ]
  },
  {
   "attachments": {},
   "cell_type": "markdown",
   "metadata": {},
   "source": [
    "##### 11. Write a line of code to select all data from the ‘Age’ column.\n",
    "\n",
    "Note: Selecting a single column from your DataFrame is useful when you want to analyze or manipulate that specific column of data."
   ]
  },
  {
   "cell_type": "code",
   "execution_count": 19,
   "metadata": {},
   "outputs": [
    {
     "name": "stdout",
     "output_type": "stream",
     "text": [
      "0      59.0\n",
      "1      31.0\n",
      "2      46.0\n",
      "3      25.0\n",
      "4      49.0\n",
      "       ... \n",
      "155    38.0\n",
      "156    35.0\n",
      "157    28.0\n",
      "158    54.0\n",
      "159    38.0\n",
      "Name: Age, Length: 160, dtype: float64\n"
     ]
    }
   ],
   "source": [
    "print(employees_df[\"Age\"])"
   ]
  },
  {
   "attachments": {},
   "cell_type": "markdown",
   "metadata": {},
   "source": [
    "##### 12.  Write a line of code to calculate the mean age.\n",
    "\n",
    "Note: The .mode() function is used to find the most frequently occurring value(s) in a series. This can be useful when analyzing categorical data or certain types of numerical data."
   ]
  },
  {
   "cell_type": "code",
   "execution_count": 20,
   "metadata": {},
   "outputs": [
    {
     "data": {
      "text/plain": [
       "40.77358490566038"
      ]
     },
     "execution_count": 20,
     "metadata": {},
     "output_type": "execute_result"
    }
   ],
   "source": [
    "employees_df[\"Age\"].mean()"
   ]
  },
  {
   "attachments": {},
   "cell_type": "markdown",
   "metadata": {},
   "source": [
    "##### 13. Write a line of code to find the median salary.\n",
    "\n",
    "Note: The .median() function is used to find the middle value in a series when it’s sorted in ascending order. This can be more informative than the mean for datasets with skewed distributions or outliers."
   ]
  },
  {
   "cell_type": "code",
   "execution_count": 21,
   "metadata": {},
   "outputs": [
    {
     "data": {
      "text/plain": [
       "77000.0"
      ]
     },
     "execution_count": 21,
     "metadata": {},
     "output_type": "execute_result"
    }
   ],
   "source": [
    "employees_df[\"Salary\"].median()"
   ]
  },
  {
   "attachments": {},
   "cell_type": "markdown",
   "metadata": {},
   "source": [
    "### Task 3: Data Cleaning in Pandas"
   ]
  },
  {
   "attachments": {},
   "cell_type": "markdown",
   "metadata": {},
   "source": [
    "##### 1. Write a line of code to drop the ‘column1’ from the DataFrame.\n",
    "\n",
    "Note: The .drop() function is useful for removing rows or columns by label names and corresponding axis, or by specifying directly index or column names."
   ]
  },
  {
   "cell_type": "code",
   "execution_count": 29,
   "metadata": {},
   "outputs": [
    {
     "data": {
      "text/html": [
       "<div>\n",
       "<style scoped>\n",
       "    .dataframe tbody tr th:only-of-type {\n",
       "        vertical-align: middle;\n",
       "    }\n",
       "\n",
       "    .dataframe tbody tr th {\n",
       "        vertical-align: top;\n",
       "    }\n",
       "\n",
       "    .dataframe thead th {\n",
       "        text-align: right;\n",
       "    }\n",
       "</style>\n",
       "<table border=\"1\" class=\"dataframe\">\n",
       "  <thead>\n",
       "    <tr style=\"text-align: right;\">\n",
       "      <th></th>\n",
       "      <th>Name</th>\n",
       "      <th>Age</th>\n",
       "      <th>City</th>\n",
       "      <th>Salary</th>\n",
       "      <th>Gender</th>\n",
       "      <th>State</th>\n",
       "      <th>Start Date</th>\n",
       "      <th>DateOfBirth</th>\n",
       "    </tr>\n",
       "  </thead>\n",
       "  <tbody>\n",
       "    <tr>\n",
       "      <th>0</th>\n",
       "      <td>kyle</td>\n",
       "      <td>59.0</td>\n",
       "      <td>indianapolis</td>\n",
       "      <td>151000.0</td>\n",
       "      <td>Other</td>\n",
       "      <td>Indiana</td>\n",
       "      <td>1990-12-09</td>\n",
       "      <td>1964-10-15 14:21:44.568274</td>\n",
       "    </tr>\n",
       "    <tr>\n",
       "      <th>1</th>\n",
       "      <td>Luis</td>\n",
       "      <td>31.0</td>\n",
       "      <td>Los Angeles</td>\n",
       "      <td>58000.0</td>\n",
       "      <td>NaN</td>\n",
       "      <td>CA</td>\n",
       "      <td>1992-02-24</td>\n",
       "      <td>1992-10-08 14:21:44.568274</td>\n",
       "    </tr>\n",
       "    <tr>\n",
       "      <th>2</th>\n",
       "      <td>katherine</td>\n",
       "      <td>46.0</td>\n",
       "      <td>Naperville</td>\n",
       "      <td>146000.0</td>\n",
       "      <td>female</td>\n",
       "      <td>IL</td>\n",
       "      <td>21-12-2015</td>\n",
       "      <td>1977-10-12 14:21:44.568274</td>\n",
       "    </tr>\n",
       "    <tr>\n",
       "      <th>3</th>\n",
       "      <td>robert</td>\n",
       "      <td>25.0</td>\n",
       "      <td>pittsburgh</td>\n",
       "      <td>66000.0</td>\n",
       "      <td>Male</td>\n",
       "      <td>Pennsylvania</td>\n",
       "      <td>1993-01-25</td>\n",
       "      <td>1998-10-07 14:21:44.568274</td>\n",
       "    </tr>\n",
       "    <tr>\n",
       "      <th>4</th>\n",
       "      <td>austin</td>\n",
       "      <td>49.0</td>\n",
       "      <td>Naperville</td>\n",
       "      <td>96000.0</td>\n",
       "      <td>NaN</td>\n",
       "      <td>IL</td>\n",
       "      <td>20-09-1979</td>\n",
       "      <td>1974-10-13 14:21:44.568274</td>\n",
       "    </tr>\n",
       "    <tr>\n",
       "      <th>...</th>\n",
       "      <td>...</td>\n",
       "      <td>...</td>\n",
       "      <td>...</td>\n",
       "      <td>...</td>\n",
       "      <td>...</td>\n",
       "      <td>...</td>\n",
       "      <td>...</td>\n",
       "      <td>...</td>\n",
       "    </tr>\n",
       "    <tr>\n",
       "      <th>155</th>\n",
       "      <td>Jennifer</td>\n",
       "      <td>38.0</td>\n",
       "      <td>san francisco</td>\n",
       "      <td>58000.0</td>\n",
       "      <td>NaN</td>\n",
       "      <td>CA</td>\n",
       "      <td>2017-01-31</td>\n",
       "      <td>1985-10-10 14:21:44.568274</td>\n",
       "    </tr>\n",
       "    <tr>\n",
       "      <th>156</th>\n",
       "      <td>Sean</td>\n",
       "      <td>35.0</td>\n",
       "      <td>Los Angeles</td>\n",
       "      <td>70000.0</td>\n",
       "      <td>Male</td>\n",
       "      <td>CA</td>\n",
       "      <td>2011-07-06</td>\n",
       "      <td>1988-10-09 14:21:44.568274</td>\n",
       "    </tr>\n",
       "    <tr>\n",
       "      <th>157</th>\n",
       "      <td>Laura</td>\n",
       "      <td>28.0</td>\n",
       "      <td>Pittsburgh</td>\n",
       "      <td>53000.0</td>\n",
       "      <td>male</td>\n",
       "      <td>Pennsylvania</td>\n",
       "      <td>1991-05-05</td>\n",
       "      <td>1995-10-08 14:21:44.568274</td>\n",
       "    </tr>\n",
       "    <tr>\n",
       "      <th>158</th>\n",
       "      <td>kiara</td>\n",
       "      <td>54.0</td>\n",
       "      <td>Tampa</td>\n",
       "      <td>33000.0</td>\n",
       "      <td>NaN</td>\n",
       "      <td>Florida</td>\n",
       "      <td>03-01-1985</td>\n",
       "      <td>1969-10-14 14:21:44.568274</td>\n",
       "    </tr>\n",
       "    <tr>\n",
       "      <th>159</th>\n",
       "      <td>Jennifer</td>\n",
       "      <td>38.0</td>\n",
       "      <td>san francisco</td>\n",
       "      <td>58000.0</td>\n",
       "      <td>NaN</td>\n",
       "      <td>CA</td>\n",
       "      <td>2017-01-31</td>\n",
       "      <td>1985-10-10 14:21:44.568274</td>\n",
       "    </tr>\n",
       "  </tbody>\n",
       "</table>\n",
       "<p>160 rows × 8 columns</p>\n",
       "</div>"
      ],
      "text/plain": [
       "            Name   Age             City    Salary    Gender           State  \\\n",
       "0          kyle   59.0    indianapolis   151000.0    Other         Indiana    \n",
       "1          Luis   31.0     Los Angeles    58000.0       NaN             CA    \n",
       "2     katherine   46.0      Naperville   146000.0   female              IL    \n",
       "3        robert   25.0      pittsburgh    66000.0     Male    Pennsylvania    \n",
       "4        austin   49.0      Naperville    96000.0       NaN             IL    \n",
       "..           ...   ...              ...       ...       ...             ...   \n",
       "155    Jennifer   38.0   san francisco    58000.0       NaN             CA    \n",
       "156        Sean   35.0     Los Angeles    70000.0     Male              CA    \n",
       "157       Laura   28.0      Pittsburgh    53000.0     male    Pennsylvania    \n",
       "158       kiara   54.0           Tampa    33000.0       NaN        Florida    \n",
       "159    Jennifer   38.0   san francisco    58000.0       NaN             CA    \n",
       "\n",
       "       Start Date                 DateOfBirth  \n",
       "0      1990-12-09  1964-10-15 14:21:44.568274  \n",
       "1      1992-02-24  1992-10-08 14:21:44.568274  \n",
       "2     21-12-2015   1977-10-12 14:21:44.568274  \n",
       "3      1993-01-25  1998-10-07 14:21:44.568274  \n",
       "4     20-09-1979   1974-10-13 14:21:44.568274  \n",
       "..            ...                         ...  \n",
       "155    2017-01-31  1985-10-10 14:21:44.568274  \n",
       "156    2011-07-06  1988-10-09 14:21:44.568274  \n",
       "157    1991-05-05  1995-10-08 14:21:44.568274  \n",
       "158   03-01-1985   1969-10-14 14:21:44.568274  \n",
       "159    2017-01-31  1985-10-10 14:21:44.568274  \n",
       "\n",
       "[160 rows x 8 columns]"
      ]
     },
     "execution_count": 29,
     "metadata": {},
     "output_type": "execute_result"
    }
   ],
   "source": [
    "employees_df.drop(\"column1\",axis= 1)"
   ]
  },
  {
   "attachments": {},
   "cell_type": "markdown",
   "metadata": {},
   "source": [
    "##### 2. Write a line of code to fill missing values in the ‘Age’ column with the average age.\n",
    "\n",
    "```\n",
    "This demonstrates the function of the mean function and utlises imputation, but does it make sense to create an Employees age from a Mean? In this situation it would be better to request a real age for an employee from the data source, or remove that emplyee if it is histroical data.\n",
    "```\n",
    "\n",
    "Note: The .fillna() function is used to fill NA/NaN values using the specified method which can be a constant or a DataFrame method like mean, median etc."
   ]
  },
  {
   "cell_type": "code",
   "execution_count": 23,
   "metadata": {},
   "outputs": [],
   "source": [
    "import pandas as pd \n",
    "\n",
    "employees_df['Age'].fillna(employees_df['Age'].median(), inplace=True)"
   ]
  },
  {
   "attachments": {},
   "cell_type": "markdown",
   "metadata": {},
   "source": [
    "##### 3. Write a line of code to drop rows with any missing values.\n",
    "\n",
    "Note: The .dropna() function is used to remove missing values. It’s useful when you want to discard any incomplete data."
   ]
  },
  {
   "cell_type": "code",
   "execution_count": 62,
   "metadata": {},
   "outputs": [],
   "source": [
    "employees_df.dropna(inplace=True)"
   ]
  },
  {
   "attachments": {},
   "cell_type": "markdown",
   "metadata": {},
   "source": [
    "##### 4. Write a line of code to find duplicated rows.\n",
    "\n",
    "Note: The .duplicated() function returns a Boolean Series denoting duplicate rows. It’s useful when you want to identify any repeated data in your DataFrame."
   ]
  },
  {
   "cell_type": "code",
   "execution_count": 64,
   "metadata": {},
   "outputs": [
    {
     "data": {
      "text/plain": [
       "0      False\n",
       "2      False\n",
       "3      False\n",
       "5      False\n",
       "6      False\n",
       "       ...  \n",
       "151     True\n",
       "153     True\n",
       "154     True\n",
       "156     True\n",
       "157     True\n",
       "Length: 114, dtype: bool"
      ]
     },
     "execution_count": 64,
     "metadata": {},
     "output_type": "execute_result"
    }
   ],
   "source": [
    "employees_df.duplicated()"
   ]
  },
  {
   "attachments": {},
   "cell_type": "markdown",
   "metadata": {},
   "source": [
    "##### 5. Write a line of code to drop duplicated rows.\n",
    "\n",
    "Note: The .drop_duplicates() function is used to remove duplicate rows. This is often necessary in data cleaning process to get rid of repeated information."
   ]
  },
  {
   "cell_type": "code",
   "execution_count": 66,
   "metadata": {},
   "outputs": [
    {
     "name": "stdout",
     "output_type": "stream",
     "text": [
      "            Name   Age            City    Salary    Gender           State  \\\n",
      "0          kyle   59.0   indianapolis   151000.0    Other         Indiana    \n",
      "2     katherine   46.0     Naperville   146000.0   female              IL    \n",
      "3        robert   25.0     pittsburgh    66000.0     Male    Pennsylvania    \n",
      "5   christopher   48.0        Buffalo    47000.0    other              NY    \n",
      "6      michelle   45.0     Fort Wayne    61000.0     Male         Indiana    \n",
      "\n",
      "     Start Date                 DateOfBirth  \n",
      "0    1990-12-09  1964-10-15 14:21:44.568274  \n",
      "2   21-12-2015   1977-10-12 14:21:44.568274  \n",
      "3    1993-01-25  1998-10-07 14:21:44.568274  \n",
      "5    1990-12-09  1975-10-13 14:21:44.568274  \n",
      "6    1991-05-05  1978-10-12 14:21:44.568274  \n"
     ]
    }
   ],
   "source": [
    "employees_df.drop_duplicates(inplace=True)\n",
    "\n",
    "print(employees_df.head())\n"
   ]
  },
  {
   "attachments": {},
   "cell_type": "markdown",
   "metadata": {},
   "source": [
    "6. Write a line of code to replace ‘Illinois’ with ‘IL’ in the ‘State’ column.\n",
    "\n",
    "Note: The .str.replace() function is used to replace a specified phrase with another specified phrase. It’s useful when you want to standardize the data in your DataFrame."
   ]
  },
  {
   "cell_type": "code",
   "execution_count": 30,
   "metadata": {},
   "outputs": [
    {
     "data": {
      "text/plain": [
       "0            Indiana \n",
       "1                 CA \n",
       "2                 IL \n",
       "3       Pennsylvania \n",
       "4                 IL \n",
       "            ...      \n",
       "155               CA \n",
       "156               CA \n",
       "157     Pennsylvania \n",
       "158          Florida \n",
       "159               CA \n",
       "Name: State, Length: 160, dtype: object"
      ]
     },
     "execution_count": 30,
     "metadata": {},
     "output_type": "execute_result"
    }
   ],
   "source": [
    "import pandas as pd \n",
    "\n",
    "employees_df[\"State\"].str.replace( \"Illinois\",\"IL\")\n",
    "\n"
   ]
  },
  {
   "attachments": {},
   "cell_type": "markdown",
   "metadata": {},
   "source": [
    "##### 7. Write a line of code to find all rows where ‘City’ contains ‘naperville’.\n",
    "\n",
    "Note: The .str.contains() function is used to test if pattern or regex is contained within a string of a Series or Index. It’s useful when you want to filter your data based on certain text criteria."
   ]
  },
  {
   "cell_type": "code",
   "execution_count": 31,
   "metadata": {},
   "outputs": [
    {
     "data": {
      "text/plain": [
       "0      False\n",
       "1      False\n",
       "2      False\n",
       "3      False\n",
       "4      False\n",
       "       ...  \n",
       "155    False\n",
       "156    False\n",
       "157    False\n",
       "158    False\n",
       "159    False\n",
       "Name: City, Length: 160, dtype: object"
      ]
     },
     "execution_count": 31,
     "metadata": {},
     "output_type": "execute_result"
    }
   ],
   "source": [
    "employees_df[\"City\"].str.contains(\"naperville\")"
   ]
  },
  {
   "attachments": {},
   "cell_type": "markdown",
   "metadata": {},
   "source": [
    "##### 8. Write a line of code to standardize the ‘City’ and ‘State’ columns in the DataFrame. For ‘City’, replace ‘naperville’ with ‘Naperville’, and for ‘State’, replace ‘Illinois’ with ‘IL’.\n",
    "\n",
    "Note: The .str.replace() function is used to replace a specified phrase with another specified phrase. It’s useful when you want to standardise the data in your DataFrame. In this case, we’re using it to ensure that city and state names follow a consistent format. This is an important step in data cleaning, especially when dealing with text data, as it ensures that the same entity is represented in the same way across the dataset."
   ]
  },
  {
   "cell_type": "code",
   "execution_count": 32,
   "metadata": {},
   "outputs": [
    {
     "data": {
      "text/html": [
       "<div>\n",
       "<style scoped>\n",
       "    .dataframe tbody tr th:only-of-type {\n",
       "        vertical-align: middle;\n",
       "    }\n",
       "\n",
       "    .dataframe tbody tr th {\n",
       "        vertical-align: top;\n",
       "    }\n",
       "\n",
       "    .dataframe thead th {\n",
       "        text-align: right;\n",
       "    }\n",
       "</style>\n",
       "<table border=\"1\" class=\"dataframe\">\n",
       "  <thead>\n",
       "    <tr style=\"text-align: right;\">\n",
       "      <th></th>\n",
       "      <th>Name</th>\n",
       "      <th>Age</th>\n",
       "      <th>City</th>\n",
       "      <th>Salary</th>\n",
       "      <th>Gender</th>\n",
       "      <th>column1</th>\n",
       "      <th>State</th>\n",
       "      <th>Start Date</th>\n",
       "      <th>DateOfBirth</th>\n",
       "    </tr>\n",
       "  </thead>\n",
       "  <tbody>\n",
       "    <tr>\n",
       "      <th>0</th>\n",
       "      <td>kyle</td>\n",
       "      <td>59.0</td>\n",
       "      <td>indianapolis</td>\n",
       "      <td>151000.0</td>\n",
       "      <td>Other</td>\n",
       "      <td>Raymond</td>\n",
       "      <td>Indiana</td>\n",
       "      <td>1990-12-09</td>\n",
       "      <td>1964-10-15 14:21:44.568274</td>\n",
       "    </tr>\n",
       "    <tr>\n",
       "      <th>1</th>\n",
       "      <td>Luis</td>\n",
       "      <td>31.0</td>\n",
       "      <td>Los Angeles</td>\n",
       "      <td>58000.0</td>\n",
       "      <td>NaN</td>\n",
       "      <td>Andrade</td>\n",
       "      <td>CA</td>\n",
       "      <td>1992-02-24</td>\n",
       "      <td>1992-10-08 14:21:44.568274</td>\n",
       "    </tr>\n",
       "    <tr>\n",
       "      <th>2</th>\n",
       "      <td>katherine</td>\n",
       "      <td>46.0</td>\n",
       "      <td>Naperville</td>\n",
       "      <td>146000.0</td>\n",
       "      <td>female</td>\n",
       "      <td>Gutierrez</td>\n",
       "      <td>IL</td>\n",
       "      <td>21-12-2015</td>\n",
       "      <td>1977-10-12 14:21:44.568274</td>\n",
       "    </tr>\n",
       "    <tr>\n",
       "      <th>3</th>\n",
       "      <td>robert</td>\n",
       "      <td>25.0</td>\n",
       "      <td>pittsburgh</td>\n",
       "      <td>66000.0</td>\n",
       "      <td>Male</td>\n",
       "      <td>Yates</td>\n",
       "      <td>Pennsylvania</td>\n",
       "      <td>1993-01-25</td>\n",
       "      <td>1998-10-07 14:21:44.568274</td>\n",
       "    </tr>\n",
       "    <tr>\n",
       "      <th>4</th>\n",
       "      <td>austin</td>\n",
       "      <td>49.0</td>\n",
       "      <td>Naperville</td>\n",
       "      <td>96000.0</td>\n",
       "      <td>NaN</td>\n",
       "      <td>Turner</td>\n",
       "      <td>IL</td>\n",
       "      <td>20-09-1979</td>\n",
       "      <td>1974-10-13 14:21:44.568274</td>\n",
       "    </tr>\n",
       "    <tr>\n",
       "      <th>...</th>\n",
       "      <td>...</td>\n",
       "      <td>...</td>\n",
       "      <td>...</td>\n",
       "      <td>...</td>\n",
       "      <td>...</td>\n",
       "      <td>...</td>\n",
       "      <td>...</td>\n",
       "      <td>...</td>\n",
       "      <td>...</td>\n",
       "    </tr>\n",
       "    <tr>\n",
       "      <th>155</th>\n",
       "      <td>Jennifer</td>\n",
       "      <td>38.0</td>\n",
       "      <td>san francisco</td>\n",
       "      <td>58000.0</td>\n",
       "      <td>NaN</td>\n",
       "      <td>Palmer</td>\n",
       "      <td>CA</td>\n",
       "      <td>2017-01-31</td>\n",
       "      <td>1985-10-10 14:21:44.568274</td>\n",
       "    </tr>\n",
       "    <tr>\n",
       "      <th>156</th>\n",
       "      <td>Sean</td>\n",
       "      <td>35.0</td>\n",
       "      <td>Los Angeles</td>\n",
       "      <td>70000.0</td>\n",
       "      <td>Male</td>\n",
       "      <td>Harris</td>\n",
       "      <td>CA</td>\n",
       "      <td>2011-07-06</td>\n",
       "      <td>1988-10-09 14:21:44.568274</td>\n",
       "    </tr>\n",
       "    <tr>\n",
       "      <th>157</th>\n",
       "      <td>Laura</td>\n",
       "      <td>28.0</td>\n",
       "      <td>Pittsburgh</td>\n",
       "      <td>53000.0</td>\n",
       "      <td>male</td>\n",
       "      <td>Jackson</td>\n",
       "      <td>Pennsylvania</td>\n",
       "      <td>1991-05-05</td>\n",
       "      <td>1995-10-08 14:21:44.568274</td>\n",
       "    </tr>\n",
       "    <tr>\n",
       "      <th>158</th>\n",
       "      <td>kiara</td>\n",
       "      <td>54.0</td>\n",
       "      <td>Tampa</td>\n",
       "      <td>33000.0</td>\n",
       "      <td>NaN</td>\n",
       "      <td>Hernandez</td>\n",
       "      <td>Florida</td>\n",
       "      <td>03-01-1985</td>\n",
       "      <td>1969-10-14 14:21:44.568274</td>\n",
       "    </tr>\n",
       "    <tr>\n",
       "      <th>159</th>\n",
       "      <td>Jennifer</td>\n",
       "      <td>38.0</td>\n",
       "      <td>san francisco</td>\n",
       "      <td>58000.0</td>\n",
       "      <td>NaN</td>\n",
       "      <td>Palmer</td>\n",
       "      <td>CA</td>\n",
       "      <td>2017-01-31</td>\n",
       "      <td>1985-10-10 14:21:44.568274</td>\n",
       "    </tr>\n",
       "  </tbody>\n",
       "</table>\n",
       "<p>160 rows × 9 columns</p>\n",
       "</div>"
      ],
      "text/plain": [
       "            Name   Age             City    Salary    Gender      column1  \\\n",
       "0          kyle   59.0    indianapolis   151000.0    Other      Raymond    \n",
       "1          Luis   31.0     Los Angeles    58000.0       NaN     Andrade    \n",
       "2     katherine   46.0      Naperville   146000.0   female    Gutierrez    \n",
       "3        robert   25.0      pittsburgh    66000.0     Male        Yates    \n",
       "4        austin   49.0      Naperville    96000.0       NaN      Turner    \n",
       "..           ...   ...              ...       ...       ...          ...   \n",
       "155    Jennifer   38.0   san francisco    58000.0       NaN      Palmer    \n",
       "156        Sean   35.0     Los Angeles    70000.0     Male       Harris    \n",
       "157       Laura   28.0      Pittsburgh    53000.0     male      Jackson    \n",
       "158       kiara   54.0           Tampa    33000.0       NaN   Hernandez    \n",
       "159    Jennifer   38.0   san francisco    58000.0       NaN      Palmer    \n",
       "\n",
       "              State    Start Date                 DateOfBirth  \n",
       "0          Indiana     1990-12-09  1964-10-15 14:21:44.568274  \n",
       "1               CA     1992-02-24  1992-10-08 14:21:44.568274  \n",
       "2               IL    21-12-2015   1977-10-12 14:21:44.568274  \n",
       "3     Pennsylvania     1993-01-25  1998-10-07 14:21:44.568274  \n",
       "4               IL    20-09-1979   1974-10-13 14:21:44.568274  \n",
       "..              ...           ...                         ...  \n",
       "155             CA     2017-01-31  1985-10-10 14:21:44.568274  \n",
       "156             CA     2011-07-06  1988-10-09 14:21:44.568274  \n",
       "157   Pennsylvania     1991-05-05  1995-10-08 14:21:44.568274  \n",
       "158        Florida    03-01-1985   1969-10-14 14:21:44.568274  \n",
       "159             CA     2017-01-31  1985-10-10 14:21:44.568274  \n",
       "\n",
       "[160 rows x 9 columns]"
      ]
     },
     "execution_count": 32,
     "metadata": {},
     "output_type": "execute_result"
    }
   ],
   "source": [
    "employees_df.replace({\"City\":{\"naperville\":\"Naperville\"},\"State\":{\"Illinois\":\"IL\"}})\n"
   ]
  },
  {
   "attachments": {},
   "cell_type": "markdown",
   "metadata": {},
   "source": [
    "##### 9. (OPTIONAL) Write a line of code to standardize the ‘City’ and ‘State’ columns in the DataFrame.\n",
    "\n",
    "Advanced Question. Will go into more in next lesson so do not worry if you cannot complete this one now.\n",
    "\n",
    "```\n",
    "Reload employees.csv in and output solution to a DataFrame named 'city_state_corrected_df'\n",
    "\n",
    "Any Unknown city or states should be filled with an 'Unknown' string.\n",
    "\n",
    "Run the first code block to create mapping dictionaries for States and City. You can choose to use these or manually type out each state and city and what they should be\n",
    "```"
   ]
  },
  {
   "cell_type": "code",
   "execution_count": null,
   "metadata": {},
   "outputs": [],
   "source": [
    "# City to State mapping\n",
    "city_state = {\n",
    "    'New York': 'New York',\n",
    "    'Buffalo': 'New York',\n",
    "    'Rochester': 'New York',\n",
    "    'Los Angeles': 'California',\n",
    "    'San Francisco': 'California',\n",
    "    'San Diego': 'California',\n",
    "    'Houston': 'Texas',\n",
    "    'San Antonio': 'Texas',\n",
    "    'Dallas': 'Texas',\n",
    "    'Jacksonville': 'Florida',\n",
    "    'Miami': 'Florida',\n",
    "    'Tampa': 'Florida',\n",
    "    'Chicago': 'Illinois',\n",
    "    'Aurora': 'Illinois',\n",
    "    'Naperville': 'Illinois',\n",
    "    'Philadelphia': 'Pennsylvania',\n",
    "    'Pittsburgh': 'Pennsylvania',\n",
    "    'Allentown': 'Pennsylvania',\n",
    "    'Phoenix': 'Arizona',\n",
    "    'Tucson': 'Arizona',\n",
    "    'Mesa': 'Arizona',\n",
    "    'Indianapolis': 'Indiana',\n",
    "    'Fort Wayne': 'Indiana',\n",
    "    'Evansville': 'Indiana'\n",
    "}\n",
    "\n",
    "# Abbreviations for some states\n",
    "state_abbr = {\n",
    "    'New York': 'NY',\n",
    "    'California': 'CA',\n",
    "    'Texas': 'TX',\n",
    "    'Florida': 'FL',\n",
    "    'Illinois': 'IL',\n",
    "    'Pennsylvania': 'PA',\n",
    "    'Arizona': 'AZ',\n",
    "    'Indiana': 'IN'\n",
    "}"
   ]
  },
  {
   "cell_type": "code",
   "execution_count": 192,
   "metadata": {},
   "outputs": [
    {
     "name": "stdout",
     "output_type": "stream",
     "text": [
      "           Name   Age             City    Salary   Gender      column1  \\\n",
      "127   JENNIFER   38.0   san francisco    58000.0  unknown      Palmer    \n",
      "118              43.0    indianapolis    68000.0    other      Nelson    \n",
      "55       COLIN   31.0       allentown    92000.0    other     Solomon    \n",
      "101        AMY   53.0         phoenix    29000.0    other     Mendoza    \n",
      "14       SUSAN   56.0           tampa    55000.0     male      Morgan    \n",
      "4       AUSTIN   49.0      Naperville    96000.0  unknown      Turner    \n",
      "91      NICOLE   52.0    Jacksonville   102000.0   female   Patterson    \n",
      "\n",
      "              State    Start Date                 DateOfBirth  \n",
      "127             CA     2017-01-31  1985-10-10 14:21:44.568274  \n",
      "118        Indiana     1988-07-08  1980-10-11 14:21:44.568274  \n",
      "55    Pennsylvania     1988-07-08  1992-10-08 14:21:44.568274  \n",
      "101             AZ     2013-04-23  1970-10-14 14:21:44.568274  \n",
      "14         Florida    19-04-2022   1967-10-15 14:21:44.568274  \n",
      "4               IL    20-09-1979   1974-10-13 14:21:44.568274  \n",
      "91         Florida     1986-11-04  1971-10-14 14:21:44.568274  \n"
     ]
    }
   ],
   "source": [
    "print(employees_df.sample(7))"
   ]
  },
  {
   "cell_type": "code",
   "execution_count": 229,
   "metadata": {},
   "outputs": [
    {
     "name": "stdout",
     "output_type": "stream",
     "text": [
      "          Name   Age          City    Salary    Gender      column1  \\\n",
      "0        kyle   59.0  Indianapolis  151000.0    Other      Raymond    \n",
      "1        Luis   31.0   Los angeles   58000.0       NaN     Andrade    \n",
      "2   katherine   46.0    Naperville  146000.0   female    Gutierrez    \n",
      "3      robert   25.0    Pittsburgh   66000.0     Male        Yates    \n",
      "4      austin   49.0    Naperville   96000.0       NaN      Turner    \n",
      "\n",
      "          State    Start Date                 DateOfBirth  \n",
      "0       Indiana    1990-12-09  1964-10-15 14:21:44.568274  \n",
      "1    California    1992-02-24  1992-10-08 14:21:44.568274  \n",
      "2      Illinois   21-12-2015   1977-10-12 14:21:44.568274  \n",
      "3  Pennsylvania    1993-01-25  1998-10-07 14:21:44.568274  \n",
      "4      Illinois   20-09-1979   1974-10-13 14:21:44.568274  \n"
     ]
    },
    {
     "data": {
      "text/plain": [
       "array(['Indiana', 'California', 'Illinois', 'Pennsylvania', 'New York',\n",
       "       'Florida', 'Texas', 'Arizona', 'Unknown'], dtype=object)"
      ]
     },
     "execution_count": 229,
     "metadata": {},
     "output_type": "execute_result"
    }
   ],
   "source": [
    "# read_csv the employees.csv into the correctly named DataFrame here\n",
    "import pandas as pd\n",
    "import numpy as np\n",
    "\n",
    "# Read employees.csv into the correctly named DataFrame here\n",
    "city_state_corrected_df = pd.read_csv('employees.csv')\n",
    "\n",
    "\n",
    "city_state_corrected_df[\"City\"] = city_state_corrected_df[\"City\"].astype(str).str.strip()\n",
    "city_state_corrected_df[\"State\"] = city_state_corrected_df[\"State\"].astype(str).str.strip()\n",
    "\n",
    "\n",
    "city_state_corrected_df[\"City\"] = city_state_corrected_df[\"City\"].str.capitalize()\n",
    "city_state_corrected_df[\"State\"] = city_state_corrected_df[\"State\"].str.upper()\n",
    "\n",
    "city_state_corrected_df[\"State\"].replace({\"NY\": \"New York\", \"CA\": \"California\", \"TX\": \"Texas\", \"FL\": \"Florida\", \"IL\": \"Illinois\", \"PA\": \"Pennsylvania\", \"AZ\": \"Arizona\", \"IN\": \"Indiana\"}, inplace=True)\n",
    "\n",
    "city_state_corrected_df[\"State\"] = city_state_corrected_df[\"State\"].str.capitalize()\n",
    "\n",
    "state_categories = [\"New York\", \"California\", \"Texas\", \"Florida\", \"Illinois\", 'Pennsylvania', 'Arizona', 'Indiana']\n",
    "\n",
    "\n",
    "New_York = \"Buffalo|New York|Rochester\"\n",
    "California = \"Los Angeles|San Francisco|San Diego\"\n",
    "Texas = \"Houston|San Antonio|Dallas\"\n",
    "Florida = \"Jacksonville|Miami|Tampa\"\n",
    "Illinois = \"Chicago|Aurora|Naperville\"\n",
    "Pennsylvania = \"Philadelphia|Pittsburgh|Allentown\"\n",
    "Arizona = \"Phoenix|Tucson|Mesa\"\n",
    "Indiana = \"Indianapolis|Fort Wayne|Evansville\"\n",
    "\n",
    "\n",
    "\n",
    "conditions = [\n",
    "    (city_state_corrected_df[\"City\"].str.contains(New_York,case=False)),\n",
    "    (city_state_corrected_df[\"City\"].str.contains(California,case=False)),\n",
    "    (city_state_corrected_df[\"City\"].str.contains(Texas,case=False)),\n",
    "    (city_state_corrected_df[\"City\"].str.contains(Florida,case=False)),\n",
    "    (city_state_corrected_df[\"City\"].str.contains(Illinois,case=False)),\n",
    "    (city_state_corrected_df[\"City\"].str.contains(Pennsylvania,case=False)),\n",
    "    (city_state_corrected_df[\"City\"].str.contains(Arizona,case=False)),\n",
    "    (city_state_corrected_df[\"City\"].str.contains(Indiana,case=False)),\n",
    "]\n",
    "\n",
    "city_state_corrected_df[\"State\"] = np.select(conditions, state_categories, default=\"Unknown\")\n",
    "\n",
    "print(city_state_corrected_df.head())\n",
    "\n",
    "city_state_corrected_df[\"State\"].unique()\n",
    "\n"
   ]
  },
  {
   "attachments": {},
   "cell_type": "markdown",
   "metadata": {},
   "source": [
    "##### 10. (OPTIONAL) Perform Data Cleaning on the Gender Column."
   ]
  },
  {
   "attachments": {},
   "cell_type": "markdown",
   "metadata": {},
   "source": [
    "### Task 4: Data Manipulation"
   ]
  },
  {
   "cell_type": "code",
   "execution_count": 230,
   "metadata": {},
   "outputs": [
    {
     "name": "stdout",
     "output_type": "stream",
     "text": [
      "['other' 'unknown' 'female' 'male']\n"
     ]
    }
   ],
   "source": [
    "employees_df[\"Gender\"] = employees_df[\"Gender\"].astype(str)\n",
    "employees_df[\"Gender\"] = employees_df[\"Gender\"].str.lower().str.strip()\n",
    "employees_df[\"Gender\"].fillna(\"Unknown\", inplace=True)\n",
    "employees_df.drop_duplicates(inplace=True)\n",
    "\n",
    "employees_df[\"Gender\"].replace({\"^other\": \"unknown\", \"Other\": \"unknown\", \" \":\"unknown\",\"nan\":\"unknown\"}, inplace=True) \n",
    "employees_df = employees_df.dropna(subset=[\"Gender\"])\n",
    "print(employees_df[\"Gender\"].unique())"
   ]
  },
  {
   "cell_type": "code",
   "execution_count": 226,
   "metadata": {},
   "outputs": [
    {
     "name": "stdout",
     "output_type": "stream",
     "text": [
      "          Name   Age          City    Salary    Gender      column1  \\\n",
      "0        kyle   59.0  Indianapolis  151000.0    Other      Raymond    \n",
      "1        Luis   31.0   Los angeles   58000.0       NaN     Andrade    \n",
      "2   katherine   46.0    Naperville  146000.0   female    Gutierrez    \n",
      "3      robert   25.0    Pittsburgh   66000.0     Male        Yates    \n",
      "4      austin   49.0    Naperville   96000.0       NaN      Turner    \n",
      "\n",
      "          State    Start Date                 DateOfBirth  \n",
      "0       Indiana    1990-12-09  1964-10-15 14:21:44.568274  \n",
      "1    California    1992-02-24  1992-10-08 14:21:44.568274  \n",
      "2      Illinois   21-12-2015   1977-10-12 14:21:44.568274  \n",
      "3  Pennsylvania    1993-01-25  1998-10-07 14:21:44.568274  \n",
      "4      Illinois   20-09-1979   1974-10-13 14:21:44.568274  \n"
     ]
    }
   ],
   "source": [
    "import pandas as pd\n",
    "import numpy as np\n",
    "\n",
    "# Read employees.csv into the correctly named DataFrame\n",
    "city_state_corrected_df = pd.read_csv('employees.csv')\n",
    "\n",
    "city_state_corrected_df[\"City\"] = city_state_corrected_df[\"City\"].astype(str).str.strip()\n",
    "city_state_corrected_df[\"State\"] = city_state_corrected_df[\"State\"].astype(str).str.strip()\n",
    "\n",
    "# Capitalize the values in \"City\" and \"State\" columns\n",
    "city_state_corrected_df[\"City\"] = city_state_corrected_df[\"City\"].str.capitalize()\n",
    "city_state_corrected_df[\"State\"] = city_state_corrected_df[\"State\"].str.capitalize()\n",
    "\n",
    "# Replace state abbreviations with full state names\n",
    "state_mapping = {\"NY\": \"New York\", \"CA\": \"California\", \"TX\": \"Texas\", \"FL\": \"Florida\", \"IL\": \"Illinois\",\n",
    "                 \"PA\": \"Pennsylvania\", \"AZ\": \"Arizona\", \"IN\": \"Indiana\"}\n",
    "city_state_corrected_df[\"State\"].replace(state_mapping, inplace=True)\n",
    "\n",
    "# Define cities for each state\n",
    "cities_by_state = {\n",
    "    \"New York\": \"Buffalo|New York|Rochester\",\n",
    "    \"California\": \"Los Angeles|San Francisco|San Diego\",\n",
    "    \"Texas\": \"Houston|San Antonio|Dallas\",\n",
    "    \"Florida\": \"Jacksonville|Miami|Tampa\",\n",
    "    \"Illinois\": \"Chicago|Aurora|Naperville\",\n",
    "    \"Pennsylvania\": \"Philadelphia|Pittsburgh|Allentown\",\n",
    "    \"Arizona\": \"Phoenix|Tucson|Mesa\",\n",
    "    \"Indiana\": \"Indianapolis|Fort Wayne|Evansville\"\n",
    "}\n",
    "\n",
    "# Define state categories\n",
    "state_categories = [\"New York\", \"California\", \"Texas\", \"Florida\", \"Illinois\", 'Pennsylvania', 'Arizona', 'Indiana']\n",
    "\n",
    "# Map cities to corresponding states and assign state categories\n",
    "conditions = [\n",
    "    city_state_corrected_df[\"City\"].str.contains(cities, case=False) for cities in cities_by_state.values()\n",
    "]\n",
    "city_state_corrected_df[\"State\"] = np.select(conditions, state_categories, default=\"Unknown\")\n",
    "\n",
    "print(city_state_corrected_df.head())\n"
   ]
  },
  {
   "attachments": {},
   "cell_type": "markdown",
   "metadata": {},
   "source": [
    "##### 1. Write a line of code to apply a function that adds 10 to each value in the ‘Age’ column\n",
    "\n",
    "```\n",
    "A lambda function would make the code more readable here.\n",
    "```\n",
    "\n",
    "Note: The .apply() function is useful for applying a function along an axis of the DataFrame. It can be used with a lambda function, as in this case, to perform operations on each element in a column."
   ]
  },
  {
   "cell_type": "code",
   "execution_count": 66,
   "metadata": {},
   "outputs": [
    {
     "data": {
      "text/plain": [
       "0      69.0\n",
       "1      41.0\n",
       "2      56.0\n",
       "3      35.0\n",
       "4      59.0\n",
       "       ... \n",
       "155    48.0\n",
       "156    45.0\n",
       "157    38.0\n",
       "158    64.0\n",
       "159    48.0\n",
       "Name: Age, Length: 160, dtype: float64"
      ]
     },
     "execution_count": 66,
     "metadata": {},
     "output_type": "execute_result"
    }
   ],
   "source": [
    "employees_df[\"Age\"].apply(lambda x: x + 10 )"
   ]
  },
  {
   "attachments": {},
   "cell_type": "markdown",
   "metadata": {},
   "source": [
    "##### 2. Write a line of code to apply a function that converts all names in the ‘Name’ column to uppercase.\n",
    "\n",
    "Note: The .apply() function can be used with string methods to perform operations on each string in a column, e.g. .upper()."
   ]
  },
  {
   "cell_type": "code",
   "execution_count": 70,
   "metadata": {},
   "outputs": [
    {
     "name": "stdout",
     "output_type": "stream",
     "text": [
      "0            KYLE \n",
      "1            LUIS \n",
      "2       KATHERINE \n",
      "3          ROBERT \n",
      "4          AUSTIN \n",
      "          ...     \n",
      "155      JENNIFER \n",
      "156          SEAN \n",
      "157         LAURA \n",
      "158         KIARA \n",
      "159      JENNIFER \n",
      "Name: Name, Length: 160, dtype: object\n"
     ]
    }
   ],
   "source": [
    "employees_df[\"Name\"]= employees_df[\"Name\"].str.upper()\n",
    "\n",
    "print(employees_df[\"Name\"])\n"
   ]
  },
  {
   "attachments": {},
   "cell_type": "markdown",
   "metadata": {},
   "source": [
    "##### 3. Write a line of code to concatenate df and df2 along rows.\n",
    "\n",
    "```\n",
    "# Creating a second DataFrame\n",
    "data2 = {\n",
    "    'Name': ['John', 'Jane'],\n",
    "    'Age': [30, 25],\n",
    "    'City': ['New York', 'Los Angeles'],\n",
    "    'Salary': [70000, 80000],\n",
    "    'Gender': ['Male', 'Female'],\n",
    "    'column1': ['Doe', 'Doe'],\n",
    "    'State': ['NY', 'CA'],\n",
    "    'Start Date': ['2010-01-01', '2012-07-01'],\n",
    "    'DateOfBirth': ['1990-01-01', '1997-07-01']\n",
    "}\n",
    "df2 = pd.DataFrame(data2)\n",
    "```\n",
    "\n",
    "Note: The pd.concat() function is useful for concatenating two or more pandas objects along a particular axis. By default, it concatenates along rows (i.e., axis=0). This is often used when you want to append rows from one DataFrame to another."
   ]
  },
  {
   "cell_type": "code",
   "execution_count": 72,
   "metadata": {},
   "outputs": [
    {
     "data": {
      "text/html": [
       "<div>\n",
       "<style scoped>\n",
       "    .dataframe tbody tr th:only-of-type {\n",
       "        vertical-align: middle;\n",
       "    }\n",
       "\n",
       "    .dataframe tbody tr th {\n",
       "        vertical-align: top;\n",
       "    }\n",
       "\n",
       "    .dataframe thead th {\n",
       "        text-align: right;\n",
       "    }\n",
       "</style>\n",
       "<table border=\"1\" class=\"dataframe\">\n",
       "  <thead>\n",
       "    <tr style=\"text-align: right;\">\n",
       "      <th></th>\n",
       "      <th>Name</th>\n",
       "      <th>Age</th>\n",
       "      <th>City</th>\n",
       "      <th>Salary</th>\n",
       "      <th>Gender</th>\n",
       "      <th>column1</th>\n",
       "      <th>State</th>\n",
       "      <th>Start Date</th>\n",
       "      <th>DateOfBirth</th>\n",
       "    </tr>\n",
       "  </thead>\n",
       "  <tbody>\n",
       "    <tr>\n",
       "      <th>0</th>\n",
       "      <td>joseph</td>\n",
       "      <td>44.0</td>\n",
       "      <td>naperville</td>\n",
       "      <td>105000.0</td>\n",
       "      <td>other</td>\n",
       "      <td>Holmes</td>\n",
       "      <td>Illinois</td>\n",
       "      <td>2014-10-16</td>\n",
       "      <td>1979-10-12</td>\n",
       "    </tr>\n",
       "    <tr>\n",
       "      <th>1</th>\n",
       "      <td>Joshua</td>\n",
       "      <td>NaN</td>\n",
       "      <td>aurora</td>\n",
       "      <td>154000.0</td>\n",
       "      <td>None</td>\n",
       "      <td>Young</td>\n",
       "      <td>Illinois</td>\n",
       "      <td>2002-05-06</td>\n",
       "      <td>2023-05-21</td>\n",
       "    </tr>\n",
       "    <tr>\n",
       "      <th>2</th>\n",
       "      <td>yvonne</td>\n",
       "      <td>49.0</td>\n",
       "      <td>None</td>\n",
       "      <td>35000.0</td>\n",
       "      <td>Female</td>\n",
       "      <td>Martin</td>\n",
       "      <td>None</td>\n",
       "      <td>1994</td>\n",
       "      <td>1974-10-13 00:00:00</td>\n",
       "    </tr>\n",
       "    <tr>\n",
       "      <th>3</th>\n",
       "      <td>nicole</td>\n",
       "      <td>27.0</td>\n",
       "      <td>Rochester</td>\n",
       "      <td>54000.0</td>\n",
       "      <td>Other</td>\n",
       "      <td>Zuniga</td>\n",
       "      <td>New York</td>\n",
       "      <td>1999-05-21</td>\n",
       "      <td>1996-10-07</td>\n",
       "    </tr>\n",
       "    <tr>\n",
       "      <th>4</th>\n",
       "      <td>Adam</td>\n",
       "      <td>47.0</td>\n",
       "      <td>fort wayne</td>\n",
       "      <td>72000.0</td>\n",
       "      <td>None</td>\n",
       "      <td>Ramirez</td>\n",
       "      <td>IN</td>\n",
       "      <td>2021-04-10</td>\n",
       "      <td>1976-10-12</td>\n",
       "    </tr>\n",
       "  </tbody>\n",
       "</table>\n",
       "</div>"
      ],
      "text/plain": [
       "     Name   Age        City    Salary  Gender  column1     State  Start Date  \\\n",
       "0  joseph  44.0  naperville  105000.0   other   Holmes  Illinois  2014-10-16   \n",
       "1  Joshua   NaN      aurora  154000.0    None    Young  Illinois  2002-05-06   \n",
       "2  yvonne  49.0        None   35000.0  Female   Martin      None        1994   \n",
       "3  nicole  27.0   Rochester   54000.0   Other   Zuniga  New York  1999-05-21   \n",
       "4    Adam  47.0  fort wayne   72000.0    None  Ramirez        IN  2021-04-10   \n",
       "\n",
       "           DateOfBirth  \n",
       "0           1979-10-12  \n",
       "1           2023-05-21  \n",
       "2  1974-10-13 00:00:00  \n",
       "3           1996-10-07  \n",
       "4           1976-10-12  "
      ]
     },
     "execution_count": 72,
     "metadata": {},
     "output_type": "execute_result"
    }
   ],
   "source": [
    "import pandas as pd\n",
    "\n",
    "# Define the dataframe 1\n",
    "data = {\n",
    "    'Name': ['joseph', 'Joshua', 'yvonne', 'nicole', 'Adam'],\n",
    "    'Age': [44.0, None, 49.0, 27.0, 47.0],\n",
    "    'City': ['naperville', 'aurora', None, 'Rochester', 'fort wayne'],\n",
    "    'Salary': [105000.0, 154000.0, 35000.0, 54000.0, 72000.0],\n",
    "    'Gender': ['other', None, 'Female', 'Other', None],\n",
    "    'column1': ['Holmes', 'Young', 'Martin', 'Zuniga', 'Ramirez'],\n",
    "    'State': ['Illinois', 'Illinois', None, 'New York', 'IN'],\n",
    "    'Start Date': ['2014-10-16', '2002-05-06', '1994', '1999-05-21', '2021-04-10'],\n",
    "    'DateOfBirth': ['1979-10-12', '2023-05-21', '1974-10-13 00:00:00', '1996-10-07', '1976-10-12']\n",
    "}\n",
    "\n",
    "# Convert the dictionary into a DataFrame\n",
    "df = pd.DataFrame(data)\n",
    "df"
   ]
  },
  {
   "cell_type": "code",
   "execution_count": 73,
   "metadata": {},
   "outputs": [
    {
     "data": {
      "text/html": [
       "<div>\n",
       "<style scoped>\n",
       "    .dataframe tbody tr th:only-of-type {\n",
       "        vertical-align: middle;\n",
       "    }\n",
       "\n",
       "    .dataframe tbody tr th {\n",
       "        vertical-align: top;\n",
       "    }\n",
       "\n",
       "    .dataframe thead th {\n",
       "        text-align: right;\n",
       "    }\n",
       "</style>\n",
       "<table border=\"1\" class=\"dataframe\">\n",
       "  <thead>\n",
       "    <tr style=\"text-align: right;\">\n",
       "      <th></th>\n",
       "      <th>Name</th>\n",
       "      <th>Age</th>\n",
       "      <th>City</th>\n",
       "      <th>Salary</th>\n",
       "      <th>Gender</th>\n",
       "      <th>column1</th>\n",
       "      <th>State</th>\n",
       "      <th>Start Date</th>\n",
       "      <th>DateOfBirth</th>\n",
       "    </tr>\n",
       "  </thead>\n",
       "  <tbody>\n",
       "    <tr>\n",
       "      <th>0</th>\n",
       "      <td>John</td>\n",
       "      <td>30</td>\n",
       "      <td>New York</td>\n",
       "      <td>70000</td>\n",
       "      <td>Male</td>\n",
       "      <td>Doe</td>\n",
       "      <td>NY</td>\n",
       "      <td>2010-01-01</td>\n",
       "      <td>1990-01-01</td>\n",
       "    </tr>\n",
       "    <tr>\n",
       "      <th>1</th>\n",
       "      <td>Jane</td>\n",
       "      <td>25</td>\n",
       "      <td>Los Angeles</td>\n",
       "      <td>80000</td>\n",
       "      <td>Female</td>\n",
       "      <td>Doe</td>\n",
       "      <td>CA</td>\n",
       "      <td>2012-07-01</td>\n",
       "      <td>1997-07-01</td>\n",
       "    </tr>\n",
       "  </tbody>\n",
       "</table>\n",
       "</div>"
      ],
      "text/plain": [
       "   Name  Age         City  Salary  Gender column1 State  Start Date  \\\n",
       "0  John   30     New York   70000    Male     Doe    NY  2010-01-01   \n",
       "1  Jane   25  Los Angeles   80000  Female     Doe    CA  2012-07-01   \n",
       "\n",
       "  DateOfBirth  \n",
       "0  1990-01-01  \n",
       "1  1997-07-01  "
      ]
     },
     "execution_count": 73,
     "metadata": {},
     "output_type": "execute_result"
    }
   ],
   "source": [
    "# Creating a second DataFrame\n",
    "data2 = {\n",
    "    'Name': ['John', 'Jane'],\n",
    "    'Age': [30, 25],\n",
    "    'City': ['New York', 'Los Angeles'],\n",
    "    'Salary': [70000, 80000],\n",
    "    'Gender': ['Male', 'Female'],\n",
    "    'column1': ['Doe', 'Doe'],\n",
    "    'State': ['NY', 'CA'],\n",
    "    'Start Date': ['2010-01-01', '2012-07-01'],\n",
    "    'DateOfBirth': ['1990-01-01', '1997-07-01']\n",
    "}\n",
    "df2 = pd.DataFrame(data2)\n",
    "df2"
   ]
  },
  {
   "cell_type": "code",
   "execution_count": 76,
   "metadata": {},
   "outputs": [
    {
     "name": "stdout",
     "output_type": "stream",
     "text": [
      "     Name   Age         City    Salary  Gender  column1     State  Start Date  \\\n",
      "0  joseph  44.0   naperville  105000.0   other   Holmes  Illinois  2014-10-16   \n",
      "1  Joshua   NaN       aurora  154000.0    None    Young  Illinois  2002-05-06   \n",
      "2  yvonne  49.0         None   35000.0  Female   Martin      None        1994   \n",
      "3  nicole  27.0    Rochester   54000.0   Other   Zuniga  New York  1999-05-21   \n",
      "4    Adam  47.0   fort wayne   72000.0    None  Ramirez        IN  2021-04-10   \n",
      "0    John  30.0     New York   70000.0    Male      Doe        NY  2010-01-01   \n",
      "1    Jane  25.0  Los Angeles   80000.0  Female      Doe        CA  2012-07-01   \n",
      "\n",
      "           DateOfBirth  \n",
      "0           1979-10-12  \n",
      "1           2023-05-21  \n",
      "2  1974-10-13 00:00:00  \n",
      "3           1996-10-07  \n",
      "4           1976-10-12  \n",
      "0           1990-01-01  \n",
      "1           1997-07-01  \n"
     ]
    }
   ],
   "source": [
    "concat_df = pd.concat([df, df2])\n",
    "\n",
    "print(concat_df)"
   ]
  },
  {
   "attachments": {},
   "cell_type": "markdown",
   "metadata": {},
   "source": [
    "##### 4. Write a line of code to concatenate df and df2 along columns.\n",
    "\n",
    "Note: By specifying axis=1 in the pd.concat() function, you can concatenate DataFrames along columns instead of rows. This is useful when you want to add new columns to a DataFrame from another DataFrame with the same index."
   ]
  },
  {
   "cell_type": "code",
   "execution_count": 78,
   "metadata": {},
   "outputs": [
    {
     "name": "stdout",
     "output_type": "stream",
     "text": [
      "     Name   Age        City    Salary  Gender  column1     State  Start Date  \\\n",
      "0  joseph  44.0  naperville  105000.0   other   Holmes  Illinois  2014-10-16   \n",
      "1  Joshua   NaN      aurora  154000.0    None    Young  Illinois  2002-05-06   \n",
      "2  yvonne  49.0        None   35000.0  Female   Martin      None        1994   \n",
      "3  nicole  27.0   Rochester   54000.0   Other   Zuniga  New York  1999-05-21   \n",
      "4    Adam  47.0  fort wayne   72000.0    None  Ramirez        IN  2021-04-10   \n",
      "\n",
      "           DateOfBirth  Name   Age         City   Salary  Gender column1  \\\n",
      "0           1979-10-12  John  30.0     New York  70000.0    Male     Doe   \n",
      "1           2023-05-21  Jane  25.0  Los Angeles  80000.0  Female     Doe   \n",
      "2  1974-10-13 00:00:00   NaN   NaN          NaN      NaN     NaN     NaN   \n",
      "3           1996-10-07   NaN   NaN          NaN      NaN     NaN     NaN   \n",
      "4           1976-10-12   NaN   NaN          NaN      NaN     NaN     NaN   \n",
      "\n",
      "  State  Start Date DateOfBirth  \n",
      "0    NY  2010-01-01  1990-01-01  \n",
      "1    CA  2012-07-01  1997-07-01  \n",
      "2   NaN         NaN         NaN  \n",
      "3   NaN         NaN         NaN  \n",
      "4   NaN         NaN         NaN  \n"
     ]
    }
   ],
   "source": [
    "concat_df = pd.concat([df, df2], axis = 1)\n",
    "\n",
    "print(concat_df)"
   ]
  },
  {
   "attachments": {},
   "cell_type": "markdown",
   "metadata": {},
   "source": [
    "##### 5. Write a line of code to concatenate df and df2, and ignore the original index.\n",
    "\n",
    "Note: The ignore_index=True parameter in the pd.concat() function is useful when you want to ignore the original index and reset it in the resulting DataFrame. This is often used when the index does not contain any meaningful information."
   ]
  },
  {
   "cell_type": "code",
   "execution_count": 80,
   "metadata": {},
   "outputs": [
    {
     "name": "stdout",
     "output_type": "stream",
     "text": [
      "       0     1           2         3       4        5         6           7   \\\n",
      "0  joseph  44.0  naperville  105000.0   other   Holmes  Illinois  2014-10-16   \n",
      "1  Joshua   NaN      aurora  154000.0    None    Young  Illinois  2002-05-06   \n",
      "2  yvonne  49.0        None   35000.0  Female   Martin      None        1994   \n",
      "3  nicole  27.0   Rochester   54000.0   Other   Zuniga  New York  1999-05-21   \n",
      "4    Adam  47.0  fort wayne   72000.0    None  Ramirez        IN  2021-04-10   \n",
      "\n",
      "                    8     9     10           11       12      13   14   15  \\\n",
      "0           1979-10-12  John  30.0     New York  70000.0    Male  Doe   NY   \n",
      "1           2023-05-21  Jane  25.0  Los Angeles  80000.0  Female  Doe   CA   \n",
      "2  1974-10-13 00:00:00   NaN   NaN          NaN      NaN     NaN  NaN  NaN   \n",
      "3           1996-10-07   NaN   NaN          NaN      NaN     NaN  NaN  NaN   \n",
      "4           1976-10-12   NaN   NaN          NaN      NaN     NaN  NaN  NaN   \n",
      "\n",
      "           16          17  \n",
      "0  2010-01-01  1990-01-01  \n",
      "1  2012-07-01  1997-07-01  \n",
      "2         NaN         NaN  \n",
      "3         NaN         NaN  \n",
      "4         NaN         NaN  \n"
     ]
    }
   ],
   "source": [
    "concat_df = pd.concat([df, df2], axis = 1, ignore_index= True)\n",
    "\n",
    "print(concat_df)\n"
   ]
  },
  {
   "attachments": {},
   "cell_type": "markdown",
   "metadata": {},
   "source": [
    "### Task 5 (Homework): Joins"
   ]
  },
  {
   "cell_type": "code",
   "execution_count": 104,
   "metadata": {},
   "outputs": [
    {
     "data": {
      "text/html": [
       "<div>\n",
       "<style scoped>\n",
       "    .dataframe tbody tr th:only-of-type {\n",
       "        vertical-align: middle;\n",
       "    }\n",
       "\n",
       "    .dataframe tbody tr th {\n",
       "        vertical-align: top;\n",
       "    }\n",
       "\n",
       "    .dataframe thead th {\n",
       "        text-align: right;\n",
       "    }\n",
       "</style>\n",
       "<table border=\"1\" class=\"dataframe\">\n",
       "  <thead>\n",
       "    <tr style=\"text-align: right;\">\n",
       "      <th></th>\n",
       "      <th>ID</th>\n",
       "      <th>Name</th>\n",
       "      <th>Department</th>\n",
       "      <th>Start_Date</th>\n",
       "      <th>Salary</th>\n",
       "    </tr>\n",
       "  </thead>\n",
       "  <tbody>\n",
       "    <tr>\n",
       "      <th>0</th>\n",
       "      <td>1</td>\n",
       "      <td>Employee1</td>\n",
       "      <td>Sales</td>\n",
       "      <td>2020-01-01</td>\n",
       "      <td>50000</td>\n",
       "    </tr>\n",
       "    <tr>\n",
       "      <th>1</th>\n",
       "      <td>2</td>\n",
       "      <td>Employee2</td>\n",
       "      <td>Marketing</td>\n",
       "      <td>2020-01-02</td>\n",
       "      <td>51000</td>\n",
       "    </tr>\n",
       "    <tr>\n",
       "      <th>2</th>\n",
       "      <td>3</td>\n",
       "      <td>Employee3</td>\n",
       "      <td>HR</td>\n",
       "      <td>2020-01-03</td>\n",
       "      <td>52000</td>\n",
       "    </tr>\n",
       "    <tr>\n",
       "      <th>3</th>\n",
       "      <td>4</td>\n",
       "      <td>Employee4</td>\n",
       "      <td>Sales</td>\n",
       "      <td>2020-01-04</td>\n",
       "      <td>53000</td>\n",
       "    </tr>\n",
       "    <tr>\n",
       "      <th>4</th>\n",
       "      <td>5</td>\n",
       "      <td>Employee5</td>\n",
       "      <td>IT</td>\n",
       "      <td>2020-01-05</td>\n",
       "      <td>54000</td>\n",
       "    </tr>\n",
       "  </tbody>\n",
       "</table>\n",
       "</div>"
      ],
      "text/plain": [
       "   ID       Name Department Start_Date  Salary\n",
       "0   1  Employee1      Sales 2020-01-01   50000\n",
       "1   2  Employee2  Marketing 2020-01-02   51000\n",
       "2   3  Employee3         HR 2020-01-03   52000\n",
       "3   4  Employee4      Sales 2020-01-04   53000\n",
       "4   5  Employee5         IT 2020-01-05   54000"
      ]
     },
     "execution_count": 104,
     "metadata": {},
     "output_type": "execute_result"
    }
   ],
   "source": [
    "import pandas as pd\n",
    "\n",
    "# Create dataframes function\n",
    "\n",
    "def create_joins_df():\n",
    "    # Creating DataFrame df1\n",
    "    data1 = {\n",
    "        'ID': list(range(1, 21)),\n",
    "        'Name': ['Employee'+str(i) for i in range(1, 21)],\n",
    "        'Department': ['Sales', 'Marketing', 'HR', 'Sales', 'IT', 'Marketing', 'HR', 'IT', 'Sales', 'Marketing',\n",
    "                    'HR', 'IT', 'Sales', 'Marketing', 'HR', 'IT', 'Sales', 'Marketing', 'HR', 'IT'],\n",
    "        'Start_Date': pd.date_range(start='01-01-2020', periods=20),\n",
    "        'Salary': [i*1000 for i in range(50, 70)]\n",
    "    }\n",
    "    df1 = pd.DataFrame(data1)\n",
    "\n",
    "    # Creating DataFrame df2\n",
    "    data2 = {\n",
    "        'Identifier': list(range(11, 31)),\n",
    "        'Role': ['Role'+str(i) for i in range(11, 31)],\n",
    "        'Years_of_Experience': [i for i in range(1, 21)]\n",
    "    }\n",
    "    df2 = pd.DataFrame(data2)\n",
    "\n",
    "    return df1, df2\n",
    "\n",
    "# Run DataFrame creation function\n",
    "df1, df2 = create_joins_df()\n",
    "df2.head(5)\n",
    "df1.head(5)"
   ]
  },
  {
   "attachments": {},
   "cell_type": "markdown",
   "metadata": {},
   "source": [
    "##### 1. Write a line of code to perform an inner join of df1 and df2 on the ‘ID’ column.\n",
    "\n",
    "Note: The merge() function with how='inner' is useful for combining two DataFrames based on a common column, and only keeping rows that have matching values in both DataFrames."
   ]
  },
  {
   "cell_type": "code",
   "execution_count": 134,
   "metadata": {},
   "outputs": [
    {
     "name": "stdout",
     "output_type": "stream",
     "text": [
      "   ID        Name Department Start_Date  Salary  Identifier    Role  \\\n",
      "0  11  Employee11         HR 2020-01-11   60000          11  Role11   \n",
      "1  12  Employee12         IT 2020-01-12   61000          12  Role12   \n",
      "2  13  Employee13      Sales 2020-01-13   62000          13  Role13   \n",
      "3  14  Employee14  Marketing 2020-01-14   63000          14  Role14   \n",
      "4  15  Employee15         HR 2020-01-15   64000          15  Role15   \n",
      "5  16  Employee16         IT 2020-01-16   65000          16  Role16   \n",
      "6  17  Employee17      Sales 2020-01-17   66000          17  Role17   \n",
      "7  18  Employee18  Marketing 2020-01-18   67000          18  Role18   \n",
      "8  19  Employee19         HR 2020-01-19   68000          19  Role19   \n",
      "9  20  Employee20         IT 2020-01-20   69000          20  Role20   \n",
      "\n",
      "   Years_of_Experience  \n",
      "0                    1  \n",
      "1                    2  \n",
      "2                    3  \n",
      "3                    4  \n",
      "4                    5  \n",
      "5                    6  \n",
      "6                    7  \n",
      "7                    8  \n",
      "8                    9  \n",
      "9                   10  \n"
     ]
    }
   ],
   "source": [
    "# Run DataFrame creation function\n",
    "inner_join_df = pd.merge(df1, df2, left_on='ID', right_on='Identifier', how='inner')\n",
    "\n",
    "print(inner_join_df)"
   ]
  },
  {
   "attachments": {},
   "cell_type": "markdown",
   "metadata": {},
   "source": [
    "##### 2. Write a line of code to perform an outer join of df1 and df2 on the ‘ID’ column.\n",
    "\n",
    "Note: The merge() function with how='outer' is useful for combining two DataFrames based on a common column, and keeping all rows from both DataFrames."
   ]
  },
  {
   "cell_type": "code",
   "execution_count": 136,
   "metadata": {},
   "outputs": [
    {
     "name": "stdout",
     "output_type": "stream",
     "text": [
      "      ID        Name Department Start_Date   Salary  Identifier    Role  \\\n",
      "0    1.0   Employee1      Sales 2020-01-01  50000.0         NaN     NaN   \n",
      "1    2.0   Employee2  Marketing 2020-01-02  51000.0         NaN     NaN   \n",
      "2    3.0   Employee3         HR 2020-01-03  52000.0         NaN     NaN   \n",
      "3    4.0   Employee4      Sales 2020-01-04  53000.0         NaN     NaN   \n",
      "4    5.0   Employee5         IT 2020-01-05  54000.0         NaN     NaN   \n",
      "5    6.0   Employee6  Marketing 2020-01-06  55000.0         NaN     NaN   \n",
      "6    7.0   Employee7         HR 2020-01-07  56000.0         NaN     NaN   \n",
      "7    8.0   Employee8         IT 2020-01-08  57000.0         NaN     NaN   \n",
      "8    9.0   Employee9      Sales 2020-01-09  58000.0         NaN     NaN   \n",
      "9   10.0  Employee10  Marketing 2020-01-10  59000.0         NaN     NaN   \n",
      "10  11.0  Employee11         HR 2020-01-11  60000.0        11.0  Role11   \n",
      "11  12.0  Employee12         IT 2020-01-12  61000.0        12.0  Role12   \n",
      "12  13.0  Employee13      Sales 2020-01-13  62000.0        13.0  Role13   \n",
      "13  14.0  Employee14  Marketing 2020-01-14  63000.0        14.0  Role14   \n",
      "14  15.0  Employee15         HR 2020-01-15  64000.0        15.0  Role15   \n",
      "15  16.0  Employee16         IT 2020-01-16  65000.0        16.0  Role16   \n",
      "16  17.0  Employee17      Sales 2020-01-17  66000.0        17.0  Role17   \n",
      "17  18.0  Employee18  Marketing 2020-01-18  67000.0        18.0  Role18   \n",
      "18  19.0  Employee19         HR 2020-01-19  68000.0        19.0  Role19   \n",
      "19  20.0  Employee20         IT 2020-01-20  69000.0        20.0  Role20   \n",
      "20   NaN         NaN        NaN        NaT      NaN        21.0  Role21   \n",
      "21   NaN         NaN        NaN        NaT      NaN        22.0  Role22   \n",
      "22   NaN         NaN        NaN        NaT      NaN        23.0  Role23   \n",
      "23   NaN         NaN        NaN        NaT      NaN        24.0  Role24   \n",
      "24   NaN         NaN        NaN        NaT      NaN        25.0  Role25   \n",
      "25   NaN         NaN        NaN        NaT      NaN        26.0  Role26   \n",
      "26   NaN         NaN        NaN        NaT      NaN        27.0  Role27   \n",
      "27   NaN         NaN        NaN        NaT      NaN        28.0  Role28   \n",
      "28   NaN         NaN        NaN        NaT      NaN        29.0  Role29   \n",
      "29   NaN         NaN        NaN        NaT      NaN        30.0  Role30   \n",
      "\n",
      "    Years_of_Experience  \n",
      "0                   NaN  \n",
      "1                   NaN  \n",
      "2                   NaN  \n",
      "3                   NaN  \n",
      "4                   NaN  \n",
      "5                   NaN  \n",
      "6                   NaN  \n",
      "7                   NaN  \n",
      "8                   NaN  \n",
      "9                   NaN  \n",
      "10                  1.0  \n",
      "11                  2.0  \n",
      "12                  3.0  \n",
      "13                  4.0  \n",
      "14                  5.0  \n",
      "15                  6.0  \n",
      "16                  7.0  \n",
      "17                  8.0  \n",
      "18                  9.0  \n",
      "19                 10.0  \n",
      "20                 11.0  \n",
      "21                 12.0  \n",
      "22                 13.0  \n",
      "23                 14.0  \n",
      "24                 15.0  \n",
      "25                 16.0  \n",
      "26                 17.0  \n",
      "27                 18.0  \n",
      "28                 19.0  \n",
      "29                 20.0  \n"
     ]
    }
   ],
   "source": [
    "# Run DataFrame creation function\n",
    "outer_join_df = pd.merge(df1, df2, left_on='ID', right_on='Identifier', how='outer')\n",
    "\n",
    "print(outer_join_df)\n"
   ]
  },
  {
   "attachments": {},
   "cell_type": "markdown",
   "metadata": {},
   "source": [
    "##### 3. Write a line of code to join df1 and df2 on different column names (‘ID’ in df1 and ‘Identifier’ in df2).\n",
    "\n",
    "Note: The merge() function with left_on and right_on parameters is useful for combining two DataFrames based on different column names."
   ]
  },
  {
   "cell_type": "code",
   "execution_count": 137,
   "metadata": {},
   "outputs": [
    {
     "name": "stdout",
     "output_type": "stream",
     "text": [
      "   ID        Name Department Start_Date  Salary  Identifier    Role  \\\n",
      "0  11  Employee11         HR 2020-01-11   60000          11  Role11   \n",
      "1  12  Employee12         IT 2020-01-12   61000          12  Role12   \n",
      "2  13  Employee13      Sales 2020-01-13   62000          13  Role13   \n",
      "3  14  Employee14  Marketing 2020-01-14   63000          14  Role14   \n",
      "4  15  Employee15         HR 2020-01-15   64000          15  Role15   \n",
      "5  16  Employee16         IT 2020-01-16   65000          16  Role16   \n",
      "6  17  Employee17      Sales 2020-01-17   66000          17  Role17   \n",
      "7  18  Employee18  Marketing 2020-01-18   67000          18  Role18   \n",
      "8  19  Employee19         HR 2020-01-19   68000          19  Role19   \n",
      "9  20  Employee20         IT 2020-01-20   69000          20  Role20   \n",
      "\n",
      "   Years_of_Experience  \n",
      "0                    1  \n",
      "1                    2  \n",
      "2                    3  \n",
      "3                    4  \n",
      "4                    5  \n",
      "5                    6  \n",
      "6                    7  \n",
      "7                    8  \n",
      "8                    9  \n",
      "9                   10  \n"
     ]
    }
   ],
   "source": [
    "# Run DataFrame creation function\n",
    "joined_df = pd.merge(df1, df2, left_on='ID', right_on='Identifier')\n",
    "\n",
    "print(joined_df)"
   ]
  },
  {
   "attachments": {},
   "cell_type": "markdown",
   "metadata": {},
   "source": [
    "##### 4. Write a line of code to join df1 and df2 on their indices.\n",
    "\n",
    "Note: The join() function is useful for combining two DataFrames based on their indices."
   ]
  },
  {
   "cell_type": "code",
   "execution_count": 132,
   "metadata": {},
   "outputs": [
    {
     "name": "stdout",
     "output_type": "stream",
     "text": [
      "    ID        Name Department Start_Date  Salary  Identifier    Role  \\\n",
      "0    1   Employee1      Sales 2020-01-01   50000          11  Role11   \n",
      "1    2   Employee2  Marketing 2020-01-02   51000          12  Role12   \n",
      "2    3   Employee3         HR 2020-01-03   52000          13  Role13   \n",
      "3    4   Employee4      Sales 2020-01-04   53000          14  Role14   \n",
      "4    5   Employee5         IT 2020-01-05   54000          15  Role15   \n",
      "5    6   Employee6  Marketing 2020-01-06   55000          16  Role16   \n",
      "6    7   Employee7         HR 2020-01-07   56000          17  Role17   \n",
      "7    8   Employee8         IT 2020-01-08   57000          18  Role18   \n",
      "8    9   Employee9      Sales 2020-01-09   58000          19  Role19   \n",
      "9   10  Employee10  Marketing 2020-01-10   59000          20  Role20   \n",
      "10  11  Employee11         HR 2020-01-11   60000          21  Role21   \n",
      "11  12  Employee12         IT 2020-01-12   61000          22  Role22   \n",
      "12  13  Employee13      Sales 2020-01-13   62000          23  Role23   \n",
      "13  14  Employee14  Marketing 2020-01-14   63000          24  Role24   \n",
      "14  15  Employee15         HR 2020-01-15   64000          25  Role25   \n",
      "15  16  Employee16         IT 2020-01-16   65000          26  Role26   \n",
      "16  17  Employee17      Sales 2020-01-17   66000          27  Role27   \n",
      "17  18  Employee18  Marketing 2020-01-18   67000          28  Role28   \n",
      "18  19  Employee19         HR 2020-01-19   68000          29  Role29   \n",
      "19  20  Employee20         IT 2020-01-20   69000          30  Role30   \n",
      "\n",
      "    Years_of_Experience  \n",
      "0                     1  \n",
      "1                     2  \n",
      "2                     3  \n",
      "3                     4  \n",
      "4                     5  \n",
      "5                     6  \n",
      "6                     7  \n",
      "7                     8  \n",
      "8                     9  \n",
      "9                    10  \n",
      "10                   11  \n",
      "11                   12  \n",
      "12                   13  \n",
      "13                   14  \n",
      "14                   15  \n",
      "15                   16  \n",
      "16                   17  \n",
      "17                   18  \n",
      "18                   19  \n",
      "19                   20  \n"
     ]
    }
   ],
   "source": [
    "# Run DataFrame creation function\n",
    "joined_df = df1.join(df2)\n",
    "\n",
    "print(joined_df)"
   ]
  },
  {
   "attachments": {},
   "cell_type": "markdown",
   "metadata": {},
   "source": [
    "##### 5. Write a line of code to perform a left join of df1 and df2 on the ‘ID’ column.\n",
    "\n",
    "Note: The merge() function with how='left' is useful for combining two DataFrames based on a common column, and keeping all rows from the left DataFrame."
   ]
  },
  {
   "cell_type": "code",
   "execution_count": 151,
   "metadata": {},
   "outputs": [
    {
     "name": "stdout",
     "output_type": "stream",
     "text": [
      "    ID        Name Department Start_Date  Salary  Identifier    Role  \\\n",
      "0    1   Employee1      Sales 2020-01-01   50000         NaN     NaN   \n",
      "1    2   Employee2  Marketing 2020-01-02   51000         NaN     NaN   \n",
      "2    3   Employee3         HR 2020-01-03   52000         NaN     NaN   \n",
      "3    4   Employee4      Sales 2020-01-04   53000         NaN     NaN   \n",
      "4    5   Employee5         IT 2020-01-05   54000         NaN     NaN   \n",
      "5    6   Employee6  Marketing 2020-01-06   55000         NaN     NaN   \n",
      "6    7   Employee7         HR 2020-01-07   56000         NaN     NaN   \n",
      "7    8   Employee8         IT 2020-01-08   57000         NaN     NaN   \n",
      "8    9   Employee9      Sales 2020-01-09   58000         NaN     NaN   \n",
      "9   10  Employee10  Marketing 2020-01-10   59000         NaN     NaN   \n",
      "10  11  Employee11         HR 2020-01-11   60000        11.0  Role11   \n",
      "11  12  Employee12         IT 2020-01-12   61000        12.0  Role12   \n",
      "12  13  Employee13      Sales 2020-01-13   62000        13.0  Role13   \n",
      "13  14  Employee14  Marketing 2020-01-14   63000        14.0  Role14   \n",
      "14  15  Employee15         HR 2020-01-15   64000        15.0  Role15   \n",
      "15  16  Employee16         IT 2020-01-16   65000        16.0  Role16   \n",
      "16  17  Employee17      Sales 2020-01-17   66000        17.0  Role17   \n",
      "17  18  Employee18  Marketing 2020-01-18   67000        18.0  Role18   \n",
      "18  19  Employee19         HR 2020-01-19   68000        19.0  Role19   \n",
      "19  20  Employee20         IT 2020-01-20   69000        20.0  Role20   \n",
      "\n",
      "    Years_of_Experience  \n",
      "0                   NaN  \n",
      "1                   NaN  \n",
      "2                   NaN  \n",
      "3                   NaN  \n",
      "4                   NaN  \n",
      "5                   NaN  \n",
      "6                   NaN  \n",
      "7                   NaN  \n",
      "8                   NaN  \n",
      "9                   NaN  \n",
      "10                  1.0  \n",
      "11                  2.0  \n",
      "12                  3.0  \n",
      "13                  4.0  \n",
      "14                  5.0  \n",
      "15                  6.0  \n",
      "16                  7.0  \n",
      "17                  8.0  \n",
      "18                  9.0  \n",
      "19                 10.0  \n"
     ]
    }
   ],
   "source": [
    "# Run DataFrame creation function\n",
    "import pandas as pd \n",
    "\n",
    "left_join_df = pd.merge(df1,df2,left_on='ID',right_on='Identifier', how='left')\n",
    "\n",
    "print(left_join_df)"
   ]
  },
  {
   "attachments": {},
   "cell_type": "markdown",
   "metadata": {},
   "source": [
    "##### 6. Write a line of code to perform a right join of df1 and df2 on the ‘ID’ column.\n",
    "\n",
    "Note: The merge() function with how='right' is useful for combining two DataFrames based on a common column, and keeping all rows from the right DataFrame."
   ]
  },
  {
   "cell_type": "code",
   "execution_count": 153,
   "metadata": {},
   "outputs": [
    {
     "name": "stdout",
     "output_type": "stream",
     "text": [
      "      ID        Name Department Start_Date   Salary  Identifier    Role  \\\n",
      "0   11.0  Employee11         HR 2020-01-11  60000.0          11  Role11   \n",
      "1   12.0  Employee12         IT 2020-01-12  61000.0          12  Role12   \n",
      "2   13.0  Employee13      Sales 2020-01-13  62000.0          13  Role13   \n",
      "3   14.0  Employee14  Marketing 2020-01-14  63000.0          14  Role14   \n",
      "4   15.0  Employee15         HR 2020-01-15  64000.0          15  Role15   \n",
      "5   16.0  Employee16         IT 2020-01-16  65000.0          16  Role16   \n",
      "6   17.0  Employee17      Sales 2020-01-17  66000.0          17  Role17   \n",
      "7   18.0  Employee18  Marketing 2020-01-18  67000.0          18  Role18   \n",
      "8   19.0  Employee19         HR 2020-01-19  68000.0          19  Role19   \n",
      "9   20.0  Employee20         IT 2020-01-20  69000.0          20  Role20   \n",
      "10   NaN         NaN        NaN        NaT      NaN          21  Role21   \n",
      "11   NaN         NaN        NaN        NaT      NaN          22  Role22   \n",
      "12   NaN         NaN        NaN        NaT      NaN          23  Role23   \n",
      "13   NaN         NaN        NaN        NaT      NaN          24  Role24   \n",
      "14   NaN         NaN        NaN        NaT      NaN          25  Role25   \n",
      "15   NaN         NaN        NaN        NaT      NaN          26  Role26   \n",
      "16   NaN         NaN        NaN        NaT      NaN          27  Role27   \n",
      "17   NaN         NaN        NaN        NaT      NaN          28  Role28   \n",
      "18   NaN         NaN        NaN        NaT      NaN          29  Role29   \n",
      "19   NaN         NaN        NaN        NaT      NaN          30  Role30   \n",
      "\n",
      "    Years_of_Experience  \n",
      "0                     1  \n",
      "1                     2  \n",
      "2                     3  \n",
      "3                     4  \n",
      "4                     5  \n",
      "5                     6  \n",
      "6                     7  \n",
      "7                     8  \n",
      "8                     9  \n",
      "9                    10  \n",
      "10                   11  \n",
      "11                   12  \n",
      "12                   13  \n",
      "13                   14  \n",
      "14                   15  \n",
      "15                   16  \n",
      "16                   17  \n",
      "17                   18  \n",
      "18                   19  \n",
      "19                   20  \n"
     ]
    }
   ],
   "source": [
    "# Run DataFrame creation function\n",
    "right_join_df = pd.merge(df1, df2, left_on='ID',right_on=\"Identifier\", how='right')\n",
    "\n",
    "print(right_join_df)\n"
   ]
  },
  {
   "attachments": {},
   "cell_type": "markdown",
   "metadata": {},
   "source": [
    "##### 7. Write a line of code to join df1 and df2 on the ‘ID’ column, where ‘ID’ is the index in df1 and a regular column in df2.\n",
    "\n",
    "Note: The combination of the .set_index() function and the .join() function is useful when you want to join two DataFrames based on an index in one DataFrame and a regular column in another DataFrame."
   ]
  },
  {
   "cell_type": "code",
   "execution_count": 161,
   "metadata": {},
   "outputs": [
    {
     "name": "stdout",
     "output_type": "stream",
     "text": [
      "          Name Department Start_Date  Salary  Identifier    Role  \\\n",
      "ID                                                                 \n",
      "1    Employee1      Sales 2020-01-01   50000        12.0  Role12   \n",
      "2    Employee2  Marketing 2020-01-02   51000        13.0  Role13   \n",
      "3    Employee3         HR 2020-01-03   52000        14.0  Role14   \n",
      "4    Employee4      Sales 2020-01-04   53000        15.0  Role15   \n",
      "5    Employee5         IT 2020-01-05   54000        16.0  Role16   \n",
      "6    Employee6  Marketing 2020-01-06   55000        17.0  Role17   \n",
      "7    Employee7         HR 2020-01-07   56000        18.0  Role18   \n",
      "8    Employee8         IT 2020-01-08   57000        19.0  Role19   \n",
      "9    Employee9      Sales 2020-01-09   58000        20.0  Role20   \n",
      "10  Employee10  Marketing 2020-01-10   59000        21.0  Role21   \n",
      "11  Employee11         HR 2020-01-11   60000        22.0  Role22   \n",
      "12  Employee12         IT 2020-01-12   61000        23.0  Role23   \n",
      "13  Employee13      Sales 2020-01-13   62000        24.0  Role24   \n",
      "14  Employee14  Marketing 2020-01-14   63000        25.0  Role25   \n",
      "15  Employee15         HR 2020-01-15   64000        26.0  Role26   \n",
      "16  Employee16         IT 2020-01-16   65000        27.0  Role27   \n",
      "17  Employee17      Sales 2020-01-17   66000        28.0  Role28   \n",
      "18  Employee18  Marketing 2020-01-18   67000        29.0  Role29   \n",
      "19  Employee19         HR 2020-01-19   68000        30.0  Role30   \n",
      "20  Employee20         IT 2020-01-20   69000         NaN     NaN   \n",
      "\n",
      "    Years_of_Experience  \n",
      "ID                       \n",
      "1                   2.0  \n",
      "2                   3.0  \n",
      "3                   4.0  \n",
      "4                   5.0  \n",
      "5                   6.0  \n",
      "6                   7.0  \n",
      "7                   8.0  \n",
      "8                   9.0  \n",
      "9                  10.0  \n",
      "10                 11.0  \n",
      "11                 12.0  \n",
      "12                 13.0  \n",
      "13                 14.0  \n",
      "14                 15.0  \n",
      "15                 16.0  \n",
      "16                 17.0  \n",
      "17                 18.0  \n",
      "18                 19.0  \n",
      "19                 20.0  \n",
      "20                  NaN  \n"
     ]
    }
   ],
   "source": [
    "# Run DataFrame creation function\n",
    "joined_df = df1.set_index('ID').join(df2)\n",
    "\n",
    "print(joined_df)"
   ]
  },
  {
   "attachments": {},
   "cell_type": "markdown",
   "metadata": {},
   "source": [
    "##### 8. Write a line of code to join df1 and df2, where ‘ID’ is a regular column in both DataFrames, but treat it as an index only for the purpose of joining.\n",
    "\n",
    "Note: The combination of the .set_index(), .join(), and .reset_index() functions is useful when you want to join two DataFrames based on a common column, but don’t want this column to be the index in your resulting DataFrame."
   ]
  },
  {
   "cell_type": "code",
   "execution_count": 164,
   "metadata": {
    "scrolled": true
   },
   "outputs": [
    {
     "name": "stdout",
     "output_type": "stream",
     "text": [
      "    ID        Name Department Start_Date  Salary    Role  Years_of_Experience\n",
      "0    1   Employee1      Sales 2020-01-01   50000     NaN                  NaN\n",
      "1    2   Employee2  Marketing 2020-01-02   51000     NaN                  NaN\n",
      "2    3   Employee3         HR 2020-01-03   52000     NaN                  NaN\n",
      "3    4   Employee4      Sales 2020-01-04   53000     NaN                  NaN\n",
      "4    5   Employee5         IT 2020-01-05   54000     NaN                  NaN\n",
      "5    6   Employee6  Marketing 2020-01-06   55000     NaN                  NaN\n",
      "6    7   Employee7         HR 2020-01-07   56000     NaN                  NaN\n",
      "7    8   Employee8         IT 2020-01-08   57000     NaN                  NaN\n",
      "8    9   Employee9      Sales 2020-01-09   58000     NaN                  NaN\n",
      "9   10  Employee10  Marketing 2020-01-10   59000     NaN                  NaN\n",
      "10  11  Employee11         HR 2020-01-11   60000  Role11                  1.0\n",
      "11  12  Employee12         IT 2020-01-12   61000  Role12                  2.0\n",
      "12  13  Employee13      Sales 2020-01-13   62000  Role13                  3.0\n",
      "13  14  Employee14  Marketing 2020-01-14   63000  Role14                  4.0\n",
      "14  15  Employee15         HR 2020-01-15   64000  Role15                  5.0\n",
      "15  16  Employee16         IT 2020-01-16   65000  Role16                  6.0\n",
      "16  17  Employee17      Sales 2020-01-17   66000  Role17                  7.0\n",
      "17  18  Employee18  Marketing 2020-01-18   67000  Role18                  8.0\n",
      "18  19  Employee19         HR 2020-01-19   68000  Role19                  9.0\n",
      "19  20  Employee20         IT 2020-01-20   69000  Role20                 10.0\n"
     ]
    }
   ],
   "source": [
    "# Run DataFrame creation function\n",
    "joined_df = df1.set_index('ID').join(df2.set_index('Identifier')).reset_index()\n",
    "\n",
    "print(joined_df)\n"
   ]
  },
  {
   "cell_type": "code",
   "execution_count": null,
   "metadata": {},
   "outputs": [],
   "source": []
  }
 ],
 "metadata": {
  "kernelspec": {
   "display_name": "Python 3 (ipykernel)",
   "language": "python",
   "name": "python3"
  },
  "language_info": {
   "codemirror_mode": {
    "name": "ipython",
    "version": 3
   },
   "file_extension": ".py",
   "mimetype": "text/x-python",
   "name": "python",
   "nbconvert_exporter": "python",
   "pygments_lexer": "ipython3",
   "version": "3.11.7"
  }
 },
 "nbformat": 4,
 "nbformat_minor": 4
}
